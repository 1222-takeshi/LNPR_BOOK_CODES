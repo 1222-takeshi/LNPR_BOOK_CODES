{
 "cells": [
  {
   "cell_type": "code",
   "execution_count": 1,
   "metadata": {},
   "outputs": [],
   "source": [
    "import matplotlib\n",
    "matplotlib.use('nbagg')\n",
    "import matplotlib.animation as anm\n",
    "import matplotlib.pyplot as plt\n",
    "import math\n",
    "import matplotlib.patches as patches\n",
    "import numpy as np"
   ]
  },
  {
   "cell_type": "code",
   "execution_count": 2,
   "metadata": {
    "scrolled": true
   },
   "outputs": [],
   "source": [
    "class World:\n",
    "    def __init__(self, debug=False):\n",
    "        self.objects = []             # ここにロボットなどのオブジェクトを登録\n",
    "        self.debug = debug\n",
    "        \n",
    "    def append(self,obj):             # オブジェクトを登録するための関数\n",
    "        self.objects.append(obj)\n",
    "    \n",
    "    def draw(self):\n",
    "        fig = plt.figure(figsize=(4,4))                # 8x8 inchの図を準備\n",
    "        ax = fig.add_subplot(111)                      # サブプロットを準備\n",
    "        ax.set_aspect('equal')                         # 縦横比を座標の値と一致させる\n",
    "        ax.set_xlim(-5,5)                              # X軸を-5m x 5mの範囲で描画\n",
    "        ax.set_ylim(-5,5)                              # Y軸も同様に\n",
    "        ax.set_xlabel(\"X\",fontsize=10)                 # X軸にラベルを表示\n",
    "        ax.set_ylabel(\"Y\",fontsize=10)                 # 同じくY軸に\n",
    "        \n",
    "        elems = []\n",
    "        time_increment = 0.1\n",
    "        \n",
    "        if self.debug:        \n",
    "            for i in range(1000): self.one_step(i, elems, ax) \n",
    "        else:\n",
    "            self.ani = anm.FuncAnimation(fig, self.one_step, fargs=(elems, ax), frames=100, interval=1000, repeat=False)\n",
    "            plt.show()\n",
    "        \n",
    "    def one_step(self, i, elems, ax):    ### fig:one_step1 (25-27行目) fig:one_step2 （25-29行目） \n",
    "        while elems: elems.pop().remove()\n",
    "        elems.append(ax.text(-4.4, 4.5, \"t = \"+str(i), fontsize=10)) #座標ベタ書きが気になるなら変数に\n",
    "        for obj in self.objects: # 追加\n",
    "            obj.draw(ax, elems)  # 追加"
   ]
  },
  {
   "cell_type": "code",
   "execution_count": 3,
   "metadata": {},
   "outputs": [],
   "source": [
    "class IdealRobot:\n",
    "    def __init__(self, pose, color=\"black\"):\n",
    "        self.pose = pose        # 引数から姿勢の初期値を設定\n",
    "        self.r = 0.2            # これは描画のためなので固定値\n",
    "        self.color = color      # 引数から描画するときの色を設定\n",
    "        \n",
    "    def vec_trans_to_world(self,vec):\n",
    "        s = math.sin(self.pose[2])  # self.pose[2]はロボットの向き\n",
    "        c = math.cos(self.pose[2])\n",
    "        return np.array([[c, -s], \n",
    "                        [s, c]]).dot(vec) # 回転行列に引数のベクトルをかけて返す\n",
    "    \n",
    "    def pos_trans_to_world(self,pos):\n",
    "        return self.vec_trans_to_world(pos) + self.pose[0:2]\n",
    "    \n",
    "    def draw(self, ax, elems):                ### fig:append_elements (16-22行目)\n",
    "        x, y, theta = self.pose\n",
    "        xn = x + self.r * math.cos(theta)\n",
    "        yn = y + self.r * math.sin(theta)\n",
    "        elems += ax.plot([x,xn], [y,yn], color=self.color) # elems += を追加\n",
    "        c = patches.Circle(xy=(x, y), radius=self.r, fill=False, color=self.color) # c = を追加\n",
    "        elems.append(ax.add_patch(c))   # elem.appendで包む\n",
    "    \n",
    "       # self.draw_coordinate_system(ax)\n",
    "         \n",
    "    def draw_coordinate_system(self, ax):   \n",
    "        origin = self.pos_trans_to_world(np.array([0, 0]).T) # ロボット座標系の原点を世界座標系へ\n",
    "        for v in [[1, 0], [0, 1]]:                           # それぞれロボット座標系のX,Y軸の単位ベクトル\n",
    "            wv = self.vec_trans_to_world(np.array(v).T)     # 世界座標系へ単位ベクトルを変換\n",
    "            ax.quiver(origin[0], origin[1], wv[0], wv[1],  # 矢印で単位ベクトルを描画\n",
    "                angles='xy', scale_units='xy', scale=1, color=self.color)"
   ]
  },
  {
   "cell_type": "code",
   "execution_count": 4,
   "metadata": {},
   "outputs": [
    {
     "ename": "AttributeError",
     "evalue": "'World' object has no attribute 'debug'",
     "output_type": "error",
     "traceback": [
      "\u001b[0;31m---------------------------------------------------------------------------\u001b[0m",
      "\u001b[0;31mAttributeError\u001b[0m                            Traceback (most recent call last)",
      "\u001b[0;32m<ipython-input-4-75331b40fa4d>\u001b[0m in \u001b[0;36m<module>\u001b[0;34m\u001b[0m\n\u001b[1;32m      5\u001b[0m \u001b[0mworld\u001b[0m\u001b[0;34m.\u001b[0m\u001b[0mappend\u001b[0m\u001b[0;34m(\u001b[0m\u001b[0mrobot1\u001b[0m\u001b[0;34m)\u001b[0m                                      \u001b[0;31m# ロボットを登録\u001b[0m\u001b[0;34m\u001b[0m\u001b[0m\n\u001b[1;32m      6\u001b[0m \u001b[0mworld\u001b[0m\u001b[0;34m.\u001b[0m\u001b[0mappend\u001b[0m\u001b[0;34m(\u001b[0m\u001b[0mrobot2\u001b[0m\u001b[0;34m)\u001b[0m\u001b[0;34m\u001b[0m\u001b[0m\n\u001b[0;32m----> 7\u001b[0;31m \u001b[0mworld\u001b[0m\u001b[0;34m.\u001b[0m\u001b[0mdraw\u001b[0m\u001b[0;34m(\u001b[0m\u001b[0;34m)\u001b[0m\u001b[0;34m\u001b[0m\u001b[0m\n\u001b[0m",
      "\u001b[0;32m<ipython-input-2-f046f5a811f1>\u001b[0m in \u001b[0;36mdraw\u001b[0;34m(self)\u001b[0m\n\u001b[1;32m     18\u001b[0m         \u001b[0mtime_increment\u001b[0m \u001b[0;34m=\u001b[0m \u001b[0;36m0.1\u001b[0m\u001b[0;34m\u001b[0m\u001b[0m\n\u001b[1;32m     19\u001b[0m \u001b[0;34m\u001b[0m\u001b[0m\n\u001b[0;32m---> 20\u001b[0;31m         \u001b[0;32mif\u001b[0m \u001b[0mself\u001b[0m\u001b[0;34m.\u001b[0m\u001b[0mdebug\u001b[0m\u001b[0;34m:\u001b[0m\u001b[0;34m\u001b[0m\u001b[0m\n\u001b[0m\u001b[1;32m     21\u001b[0m             \u001b[0;32mfor\u001b[0m \u001b[0mi\u001b[0m \u001b[0;32min\u001b[0m \u001b[0mrange\u001b[0m\u001b[0;34m(\u001b[0m\u001b[0;36m1000\u001b[0m\u001b[0;34m)\u001b[0m\u001b[0;34m:\u001b[0m \u001b[0mself\u001b[0m\u001b[0;34m.\u001b[0m\u001b[0mone_step\u001b[0m\u001b[0;34m(\u001b[0m\u001b[0mi\u001b[0m\u001b[0;34m,\u001b[0m \u001b[0melems\u001b[0m\u001b[0;34m,\u001b[0m \u001b[0max\u001b[0m\u001b[0;34m)\u001b[0m \u001b[0;31m#デバッグ時はアニメーションさせない\u001b[0m\u001b[0;34m\u001b[0m\u001b[0m\n\u001b[1;32m     22\u001b[0m         \u001b[0;32melse\u001b[0m\u001b[0;34m:\u001b[0m\u001b[0;34m\u001b[0m\u001b[0m\n",
      "\u001b[0;31mAttributeError\u001b[0m: 'World' object has no attribute 'debug'"
     ]
    }
   ],
   "source": [
    "world = World()        \n",
    "\n",
    "robot1 = IdealRobot( np.array([2, 3, math.pi/6]).T )           # ロボットのインスタンス生成（色を省略）\n",
    "robot2 = IdealRobot( np.array([-2, -1, math.pi/5*6]).T, \"red\")  # ロボットのインスタンス生成（色を指定）\n",
    "world.append(robot1)                                      # ロボットを登録 \n",
    "world.append(robot2)\n",
    "world.draw()"
   ]
  },
  {
   "cell_type": "code",
   "execution_count": null,
   "metadata": {},
   "outputs": [],
   "source": []
  }
 ],
 "metadata": {
  "kernelspec": {
   "display_name": "Python 3",
   "language": "python",
   "name": "python3"
  },
  "language_info": {
   "codemirror_mode": {
    "name": "ipython",
    "version": 3
   },
   "file_extension": ".py",
   "mimetype": "text/x-python",
   "name": "python",
   "nbconvert_exporter": "python",
   "pygments_lexer": "ipython3",
   "version": "3.7.0"
  }
 },
 "nbformat": 4,
 "nbformat_minor": 2
}
