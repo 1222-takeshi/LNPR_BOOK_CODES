{
 "cells": [
  {
   "cell_type": "code",
   "execution_count": 1,
   "metadata": {},
   "outputs": [],
   "source": [
    "import sys   ###qmdp1（上の2つのセル）\n",
    "sys.path.append('../scripts/')\n",
    "from dp_policy_agent import *"
   ]
  },
  {
   "cell_type": "code",
   "execution_count": 2,
   "metadata": {},
   "outputs": [],
   "source": [
    "class QmdpAgent(DpPolicyAgent):\n",
    "    def __init__(self, time_interval, estimator, goal, puddles, sampling_num=10, widths=np.array([0.2, 0.2, math.pi/18]).T, \\\n",
    "                 puddle_coef=100.0, lowerleft=np.array([-4, -4]).T, upperright=np.array([4, 4]).T): \n",
    "        super().__init__(time_interval, estimator, goal, puddle_coef, widths, lowerleft, upperright)"
   ]
  },
  {
   "cell_type": "code",
   "execution_count": 1,
   "metadata": {},
   "outputs": [],
   "source": [
    "def trial(animation):  ###qmdp1exec\n",
    "    time_interval = 0.1\n",
    "    world = PuddleWorld(30, time_interval, debug=not animation) \n",
    "\n",
    "    ##ランドマークの追加（意地悪な位置に）##\n",
    "    m = Map()\n",
    "    m.append_landmark(Landmark(1,4))\n",
    "    m.append_landmark(Landmark(4,1))\n",
    "    m.append_landmark(Landmark(-4,-4))\n",
    "    world.append(m)\n",
    "    \n",
    "    ##ゴール・水たまりの追加（これは特に変更なし）##\n",
    "    goal = Goal(-3,-3)\n",
    "    puddles = [Puddle((-2, 0), (0, 2), 0.1), Puddle((-0.5, -2), (2.5, 1), 0.1)] \n",
    "    world.append(goal)\n",
    "    world.append(puddles[0]) \n",
    "    world.append(puddles[1])\n",
    "    \n",
    "    ##ロボットを作る##\n",
    "    init_pose = np.array([2.5, 2.5, 0]).T\n",
    "    pf = Mcl(m, init_pose, 100)\n",
    "#    a = QmdpAgent(time_interval, pf, goal, puddles)\n",
    "    a = DpPolicyAgent(time_interval, pf, goal, puddles)\n",
    "    r = Robot(init_pose, sensor=Camera(m), agent=a, color=\"red\")\n",
    "\n",
    "    world.append(r)\n",
    "        \n",
    "    world.draw()\n",
    "    \n",
    "    return a.total_reward+a.final_value, a.in_goal"
   ]
  },
  {
   "cell_type": "code",
   "execution_count": 2,
   "metadata": {},
   "outputs": [
    {
     "ename": "NameError",
     "evalue": "name 'PuddleWorld' is not defined",
     "output_type": "error",
     "traceback": [
      "\u001b[0;31m---------------------------------------------------------------------------\u001b[0m",
      "\u001b[0;31mNameError\u001b[0m                                 Traceback (most recent call last)",
      "\u001b[0;32m<ipython-input-2-3bc6849d0971>\u001b[0m in \u001b[0;36m<module>\u001b[0;34m\u001b[0m\n\u001b[0;32m----> 1\u001b[0;31m \u001b[0mtrial\u001b[0m\u001b[0;34m(\u001b[0m\u001b[0;32mTrue\u001b[0m\u001b[0;34m)\u001b[0m\u001b[0;34m\u001b[0m\u001b[0m\n\u001b[0m",
      "\u001b[0;32m<ipython-input-1-9e8dd21efe42>\u001b[0m in \u001b[0;36mtrial\u001b[0;34m(animation)\u001b[0m\n\u001b[1;32m      1\u001b[0m \u001b[0;32mdef\u001b[0m \u001b[0mtrial\u001b[0m\u001b[0;34m(\u001b[0m\u001b[0manimation\u001b[0m\u001b[0;34m)\u001b[0m\u001b[0;34m:\u001b[0m  \u001b[0;31m###qmdp1exec\u001b[0m\u001b[0;34m\u001b[0m\u001b[0m\n\u001b[1;32m      2\u001b[0m     \u001b[0mtime_interval\u001b[0m \u001b[0;34m=\u001b[0m \u001b[0;36m0.1\u001b[0m\u001b[0;34m\u001b[0m\u001b[0m\n\u001b[0;32m----> 3\u001b[0;31m     \u001b[0mworld\u001b[0m \u001b[0;34m=\u001b[0m \u001b[0mPuddleWorld\u001b[0m\u001b[0;34m(\u001b[0m\u001b[0;36m30\u001b[0m\u001b[0;34m,\u001b[0m \u001b[0mtime_interval\u001b[0m\u001b[0;34m,\u001b[0m \u001b[0mdebug\u001b[0m\u001b[0;34m=\u001b[0m\u001b[0;32mnot\u001b[0m \u001b[0manimation\u001b[0m\u001b[0;34m)\u001b[0m\u001b[0;34m\u001b[0m\u001b[0m\n\u001b[0m\u001b[1;32m      4\u001b[0m \u001b[0;34m\u001b[0m\u001b[0m\n\u001b[1;32m      5\u001b[0m     \u001b[0;31m##ランドマークの追加（意地悪な位置に）##\u001b[0m\u001b[0;34m\u001b[0m\u001b[0;34m\u001b[0m\u001b[0m\n",
      "\u001b[0;31mNameError\u001b[0m: name 'PuddleWorld' is not defined"
     ]
    }
   ],
   "source": [
    "trial(True)"
   ]
  },
  {
   "cell_type": "code",
   "execution_count": 4,
   "metadata": {},
   "outputs": [
    {
     "name": "stdout",
     "output_type": "stream",
     "text": [
      "-63.90000000000011 True\n",
      "-17.199999999999974 True\n",
      "-70.39999999999985 True\n",
      "-45.7000000000001 True\n",
      "-63.00000000000014 True\n",
      "-42.10000000000008 True\n",
      "-12.599999999999971 True\n",
      "-20.100000000000016 True\n",
      "-29.200000000000095 True\n",
      "-15.89999999999996 True\n",
      "-14.599999999999964 True\n",
      "-60.9000000000001 True\n",
      "-30.000000000000156 False\n",
      "-63.400000000000105 True\n",
      "-30.000000000000156 False\n",
      "-17.799999999999983 True\n",
      "-14.399999999999965 True\n",
      "-13.899999999999967 True\n",
      "-36.20000000000007 True\n",
      "-17.099999999999973 True\n"
     ]
    },
    {
     "name": "stderr",
     "output_type": "stream",
     "text": [
      "/usr/local/lib/python3.7/site-packages/matplotlib/pyplot.py:514: RuntimeWarning: More than 20 figures have been opened. Figures created through the pyplot interface (`matplotlib.pyplot.figure`) are retained until explicitly closed and may consume too much memory. (To control this warning, see the rcParam `figure.max_open_warning`).\n",
      "  max_open_warning, RuntimeWarning)\n"
     ]
    },
    {
     "name": "stdout",
     "output_type": "stream",
     "text": [
      "-15.89999999999997 True\n",
      "-82.99999999999952 True\n",
      "-14.299999999999965 True\n",
      "-15.199999999999962 True\n",
      "-43.60000000000008 True\n",
      "-101.99999999999896 False\n",
      "-38.10000000000009 True\n",
      "-11.999999999999973 True\n",
      "-42.40000000000008 True\n",
      "-30.000000000000156 False\n",
      "-13.699999999999967 True\n",
      "-14.09999999999997 True\n",
      "-54.600000000000094 True\n",
      "-66.69999999999992 True\n",
      "-17.900000000000002 True\n",
      "-29.7000000000001 True\n",
      "-13.599999999999968 True\n",
      "-42.80000000000013 True\n",
      "-16.29999999999996 True\n",
      "-12.99999999999997 True\n",
      "-27.300000000000107 True\n",
      "-52.30000000000011 True\n",
      "-32.50000000000008 True\n",
      "-11.499999999999975 True\n",
      "-50.500000000000085 True\n",
      "-59.80000000000011 True\n",
      "-12.69999999999997 True\n",
      "-13.79999999999997 True\n",
      "-46.10000000000009 True\n",
      "-32.00000000000009 True\n",
      "-14.799999999999963 True\n",
      "-61.600000000000186 True\n",
      "-14.699999999999964 True\n",
      "-63.7000000000001 True\n",
      "-23.100000000000062 True\n",
      "-21.60000000000006 True\n",
      "-20.800000000000054 True\n",
      "-15.499999999999961 True\n",
      "-49.200000000000095 True\n",
      "-26.10000000000007 True\n",
      "-51.300000000000075 True\n",
      "-16.499999999999964 True\n",
      "-13.699999999999967 True\n",
      "-28.40000000000008 True\n",
      "-35.00000000000024 False\n",
      "-12.199999999999973 True\n",
      "-57.30000000000013 True\n",
      "-12.499999999999972 True\n",
      "-12.599999999999971 True\n",
      "-37.00000000000008 True\n",
      "-12.79999999999997 True\n",
      "-13.499999999999968 True\n",
      "-39.500000000000114 True\n",
      "-11.999999999999973 True\n",
      "-30.000000000000156 False\n",
      "-48.000000000000306 False\n",
      "-72.4999999999998 True\n",
      "-62.100000000000094 True\n",
      "-19.60000000000001 True\n",
      "-13.299999999999969 True\n",
      "-15.59999999999996 True\n",
      "-57.00000000000036 False\n",
      "-40.80000000000013 True\n",
      "-30.000000000000156 False\n",
      "-54.10000000000015 True\n",
      "-37.80000000000016 True\n",
      "-49.90000000000009 True\n",
      "-13.999999999999966 True\n",
      "-27.900000000000077 True\n",
      "-30.100000000000076 True\n",
      "-13.699999999999967 True\n",
      "-40.80000000000012 True\n",
      "-12.99999999999997 True\n",
      "-52.90000000000014 True\n",
      "-14.299999999999965 True\n",
      "-54.10000000000007 True\n",
      "-15.89999999999996 True\n",
      "-69.19999999999985 True\n",
      "-77.0999999999998 True\n",
      "-29.000000000000075 True\n",
      "-33.439000000000036 91\n"
     ]
    }
   ],
   "source": [
    "total = 0.0\n",
    "success = 0\n",
    "num = 100\n",
    "for i in range(num):\n",
    "    reward, goal = trial(False)\n",
    "    print(reward, goal)\n",
    "    if goal: success += 1\n",
    "    total += reward\n",
    "    \n",
    "print(total/num, success)"
   ]
  },
  {
   "cell_type": "code",
   "execution_count": null,
   "metadata": {},
   "outputs": [],
   "source": [
    "-33.439000000000036 91"
   ]
  }
 ],
 "metadata": {
  "kernelspec": {
   "display_name": "Python 3",
   "language": "python",
   "name": "python3"
  },
  "language_info": {
   "codemirror_mode": {
    "name": "ipython",
    "version": 3
   },
   "file_extension": ".py",
   "mimetype": "text/x-python",
   "name": "python",
   "nbconvert_exporter": "python",
   "pygments_lexer": "ipython3",
   "version": "3.7.0"
  }
 },
 "nbformat": 4,
 "nbformat_minor": 2
}
