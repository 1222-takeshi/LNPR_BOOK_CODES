{
 "cells": [
  {
   "cell_type": "code",
   "execution_count": 1,
   "metadata": {},
   "outputs": [],
   "source": [
    "import sys \n",
    "sys.path.append('../scripts/')\n",
    "from dynamic_programming import *"
   ]
  },
  {
   "cell_type": "code",
   "execution_count": 2,
   "metadata": {},
   "outputs": [],
   "source": [
    "class BeliefDynamicProgramming(DynamicProgramming): \n",
    "    def __init__(self, widths, goal, puddles, time_interval, sampling_num, puddle_coef=100.0, \\\n",
    "                 lowerleft=np.array([-4, -4]).T, upperright=np.array([4, 4]).T, dev_borders=[0.1,0.2,0.4,0.8]): \n",
    "        super().__init__(widths, goal, puddles, time_interval, sampling_num, puddle_coef, lowerleft, upperright)\n",
    "        \n",
    "        self.index_nums = np.array([*self.index_nums, len(dev_borders) + 1])\n",
    "        nx, ny, nt, nh = self.index_nums\n",
    "        self.indexes = list(itertools.product(range(nx), range(ny), range(nt), range(nh)))\n",
    "        \n",
    "        self.value_function, self.final_state_flags =  self.init_belief_value_function()\n",
    "        self.policy = np.zeros(np.r_[self.index_nums,2]) \n",
    "        \n",
    "        self.dev_borders = dev_borders ###beliefdp3（init_entropy_transition_probsまで） #以下追加\n",
    "        tmp_borders = [dev_borders[0]/10, *dev_borders, dev_borders[-1]*10] #dev_bordersに両側を加える\n",
    "        self.entropy_state_transition_probs = {}\n",
    "        for a in self.actions:\n",
    "            for i in range(len(dev_borders)+1):\n",
    "                probs = self.init_entropy_transition_probs(time_interval, 100, tmp_borders[i], tmp_borders[i+1], a)\n",
    "                self.entropy_state_transition_probs[(i, a)] = probs\n",
    "            \n",
    "    def sigma_to_index(self, sigma):\n",
    "        for i, e in enumerate(self.dev_borders):\n",
    "            if sigma < e: return i\n",
    "            \n",
    "        return len(self.dev_borders)\n",
    "        \n",
    "    def init_entropy_transition_probs(self, time_interval, sampling_num, min_sigma, max_sigma, action):\n",
    "        nu, omega = action\n",
    "        if abs(omega) < 1e-5: omega = 1e-5\n",
    "            \n",
    "        F = np.diag([1.0, 1.0, 1.0])\n",
    "        F[0, 2] = nu / omega * (math.cos(omega * time_interval) - 1.0)#ロボットの向きは関係ないので0[deg]で固定で\n",
    "        F[1, 2] = nu / omega * (math.sin(omega * time_interval))\n",
    "        \n",
    "        v ={\"nn\":0.19, \"no\":0.001, \"on\":0.13, \"oo\":0.2} #移動の誤差モデル（カルマンフィルタのものをコピペ）\n",
    "        M = np.diag([v[\"nn\"]**2*abs(nu)/time_interval + v[\"no\"]**2*abs(omega)/time_interval, \n",
    "                         v[\"on\"]**2*abs(nu)/time_interval + v[\"oo\"]**2*abs(omega)/time_interval])\n",
    "\n",
    "        stw, ctw = math.sin(omega*time_interval), math.cos(omega*time_interval)\n",
    "        A = np.array([[stw/omega,    -nu/(omega**2)*stw + nu/omega*time_interval*ctw],\n",
    "                                     [(-ctw + 1.0)/omega, -nu/(omega**2)*(-ctw + 1.0) + nu/omega*time_interval*stw],\n",
    "                                     [0,                                time_interval]] )\n",
    "        \n",
    "        ans = {}\n",
    "        for sigma in np.linspace(min_sigma, max_sigma*0.999, sampling_num):\n",
    "            mat = sigma*sigma*F.dot(F.T) + A.dot(M).dot(A.T)\n",
    "            h = 1.5*np.log(2*np.pi) + 0.5*np.log(np.linalg.det(mat)) + 1.5 #sigmaが小さすぎると行列式が0以下になるので注意\n",
    "            sigma_after = np.power(np.e, h/3 - 0.5*np.log(2*np.pi) - 0.5)\n",
    "            index_after = self.sigma_to_index(sigma_after)\n",
    "            \n",
    "            if index_after not in ans:\n",
    "                ans[index_after] = 0\n",
    "\n",
    "            ans[index_after] += 1\n",
    "                \n",
    "        for e in ans:\n",
    "            ans[e] /= sampling_num\n",
    "\n",
    "        return ans\n",
    "    \n",
    "    def init_belief_value_function(self): \n",
    "        v = np.empty(self.index_nums)\n",
    "        f = np.zeros(self.index_nums) \n",
    "        \n",
    "        for index in self.indexes:\n",
    "            f[index] = self.belief_final_state(np.array(index).T)\n",
    "            v[index] = self.goal.value if f[index] else -100.0\n",
    "                \n",
    "        return v, f\n",
    "        \n",
    "    def belief_final_state(self, index):\n",
    "        x_min, y_min, _ = self.pose_min + self.widths*index[0:3] \n",
    "        x_max, y_max, _ = self.pose_min + self.widths*(index[0:3] + 1) \n",
    "        \n",
    "        corners = [[x_min, y_min, _], [x_min, y_max, _], [x_max, y_min, _], [x_max, y_max, _] ] \n",
    "        return all([self.goal.inside(np.array(c).T) for c in corners ]) and index[3] == 0\n",
    "    \n",
    "    def action_value(self, action, index, out_penalty=True):  ###beliefdp2\n",
    "        value = 0.0\n",
    "        for delta, prob in self.state_transition_probs[(action, index[2])]: \n",
    "            after, out_reward = self.out_correction(np.array(index[0:3]).T + delta) #indexを4次元から3次元に\n",
    "            after = tuple([*after, 0])                                                                     #エントロピーのインデックスを加える（とりあえず0で）\n",
    "            reward = - self.time_interval * self.depths[(after[0], after[1])] * self.puddle_coef - self.time_interval + out_reward*out_penalty\n",
    "            value += (self.value_function[after] + reward) * prob\n",
    "\n",
    "        return value"
   ]
  },
  {
   "cell_type": "code",
   "execution_count": 3,
   "metadata": {},
   "outputs": [],
   "source": [
    "puddles = [Puddle((-2, 0), (0, 2), 0.1), Puddle((-0.5, -2), (2.5, 1), 0.1)]\n",
    "dp = BeliefDynamicProgramming(np.array([0.2, 0.2, math.pi/18]).T, Goal(-3,-3), puddles, 0.1, 10)  #クラスを派生したものに"
   ]
  },
  {
   "cell_type": "code",
   "execution_count": null,
   "metadata": {},
   "outputs": [],
   "source": [
    "delta = dp.value_iteration_sweep()  ###beliefdp2exec"
   ]
  },
  {
   "cell_type": "code",
   "execution_count": null,
   "metadata": {},
   "outputs": [],
   "source": [
    "import seaborn as sns\n",
    "v = dp.value_function[:, :, 18, 1]\n",
    "sns.heatmap(np.rot90(v), square=False)\n",
    "plt.show()"
   ]
  },
  {
   "cell_type": "code",
   "execution_count": null,
   "metadata": {},
   "outputs": [],
   "source": [
    "dp.entropy_state_transition_probs"
   ]
  },
  {
   "cell_type": "code",
   "execution_count": null,
   "metadata": {},
   "outputs": [],
   "source": []
  }
 ],
 "metadata": {
  "kernelspec": {
   "display_name": "Python 3",
   "language": "python",
   "name": "python3"
  },
  "language_info": {
   "codemirror_mode": {
    "name": "ipython",
    "version": 3
   },
   "file_extension": ".py",
   "mimetype": "text/x-python",
   "name": "python",
   "nbconvert_exporter": "python",
   "pygments_lexer": "ipython3",
   "version": "3.7.0"
  }
 },
 "nbformat": 4,
 "nbformat_minor": 2
}
