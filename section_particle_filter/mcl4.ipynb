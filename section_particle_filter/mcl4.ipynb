{
 "cells": [
  {
   "cell_type": "code",
   "execution_count": 1,
   "metadata": {},
   "outputs": [],
   "source": [
    "import sys         ###mcl4header\n",
    "sys.path.append('../scripts/')\n",
    "from robot import *\n",
    "from scipy.stats import multivariate_normal  #追加"
   ]
  },
  {
   "cell_type": "code",
   "execution_count": 2,
   "metadata": {},
   "outputs": [],
   "source": [
    "class Particle:\n",
    "    def __init__(self, init_pose):\n",
    "        self.pose = init_pose"
   ]
  },
  {
   "cell_type": "code",
   "execution_count": 3,
   "metadata": {},
   "outputs": [],
   "source": [
    "class Mcl: ###Mcl4（draw以下省略）###\n",
    "    def __init__(self, init_pose, num, motion_noise_vars):   #引数追加\n",
    "        self.particles = [Particle(init_pose) for i in range(num)]\n",
    "        \n",
    "        v = motion_noise_vars #5,6行目追加\n",
    "        self.motion_noise_rate_pdf = multivariate_normal(cov=np.diag([v[\"nn\"], v[\"no\"], v[\"on\"], v[\"oo\"]]))\n",
    "        \n",
    "    def motion_update(self, nu, omega, time): #追加\n",
    "        print(self.motion_noise_rate_pdf.cov)\n",
    "        \n",
    "    def draw(self, ax, elems): \n",
    "        xs = [p.pose[0] for p in self.particles]\n",
    "        ys = [p.pose[1] for p in self.particles]\n",
    "        vxs = [math.cos(p.pose[2]) for p in self.particles] \n",
    "        vys = [math.sin(p.pose[2]) for p in self.particles] \n",
    "        elems.append(ax.quiver(xs, ys, vxs, vys, color=\"blue\", alpha=0.5))"
   ]
  },
  {
   "cell_type": "code",
   "execution_count": 4,
   "metadata": {},
   "outputs": [],
   "source": [
    "class MclAgent(Agent):   ###MclAgent4###\n",
    "    def __init__(self, time_interval, nu, omega, particle_pose, particle_num=100,\\\n",
    "                motion_noise_vars={\"nn\":0.1, \"no\":0.2, \"on\":0.3, \"oo\":0.4}):  #time_intervalとmotion_noise_vars追加\n",
    "        super().__init__(nu, omega)\n",
    "        self.mcl = Mcl(particle_pose, particle_num, motion_noise_vars) #引数追加\n",
    "        self.time_interval = time_interval #追加\n",
    "        \n",
    "    def draw(self, ax, elems):\n",
    "        self.mcl.draw(ax, elems)"
   ]
  },
  {
   "cell_type": "code",
   "execution_count": 5,
   "metadata": {},
   "outputs": [
    {
     "name": "stdout",
     "output_type": "stream",
     "text": [
      "[[ 0.1  0.   0.   0. ]\n",
      " [ 0.   0.2  0.   0. ]\n",
      " [ 0.   0.   0.3  0. ]\n",
      " [ 0.   0.   0.   0.4]]\n"
     ]
    }
   ],
   "source": [
    "initial_pose = np.array([0, 0, 0]).T   ###mcl_test4###\n",
    "a = MclAgent(0.1, 0.2, 10.0/180*math.pi, initial_pose)\n",
    "a.mcl.motion_update(0.2, 10.0/180*math.pi, 0.1)"
   ]
  }
 ],
 "metadata": {
  "kernelspec": {
   "display_name": "Python 3",
   "language": "python",
   "name": "python3"
  },
  "language_info": {
   "codemirror_mode": {
    "name": "ipython",
    "version": 3
   },
   "file_extension": ".py",
   "mimetype": "text/x-python",
   "name": "python",
   "nbconvert_exporter": "python",
   "pygments_lexer": "ipython3",
   "version": "3.6.3"
  }
 },
 "nbformat": 4,
 "nbformat_minor": 2
}
