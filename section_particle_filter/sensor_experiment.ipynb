{
 "cells": [
  {
   "cell_type": "code",
   "execution_count": 22,
   "metadata": {},
   "outputs": [],
   "source": [
    "import sys  ###sensor_experiment\n",
    "sys.path.append('../scripts/')\n",
    "from robot import *\n",
    "\n",
    "m = Map()\n",
    "m.append_landmark(Landmark(1,0))\n",
    "c = Camera(m)\n",
    "\n",
    "distance = []\n",
    "direction = []\n",
    "\n",
    "for i in range(100):\n",
    "    d = c.data(np.array([0.0, 0.0, 0.0]).T)\n",
    "    if len(d) > 0:\n",
    "        distance.append(d[0][0][0])\n",
    "        direction.append(d[0][0][0])"
   ]
  },
  {
   "cell_type": "code",
   "execution_count": null,
   "metadata": {},
   "outputs": [],
   "source": [
    "print(distance)"
   ]
  }
 ],
 "metadata": {
  "kernelspec": {
   "display_name": "Python 3",
   "language": "python",
   "name": "python3"
  },
  "language_info": {
   "codemirror_mode": {
    "name": "ipython",
    "version": 3
   },
   "file_extension": ".py",
   "mimetype": "text/x-python",
   "name": "python",
   "nbconvert_exporter": "python",
   "pygments_lexer": "ipython3",
   "version": "3.5.2"
  }
 },
 "nbformat": 4,
 "nbformat_minor": 2
}
