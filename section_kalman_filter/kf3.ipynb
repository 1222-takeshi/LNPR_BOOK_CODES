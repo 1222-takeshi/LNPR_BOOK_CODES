{
 "cells": [
  {
   "cell_type": "code",
   "execution_count": 1,
   "metadata": {},
   "outputs": [],
   "source": [
    "import sys\n",
    "sys.path.append('../scripts/')\n",
    "from robot import *\n",
    "from scipy.stats import multivariate_normal\n",
    "from matplotlib.patches import Ellipse"
   ]
  },
  {
   "cell_type": "code",
   "execution_count": 2,
   "metadata": {},
   "outputs": [],
   "source": [
    "class KalmanFilter:   ###kfmotionupdate\n",
    "    def __init__(self, envmap, init_pose, motion_noise_stds):\n",
    "        self.belief = multivariate_normal(mean=np.array([0.0, 0.0, 0.0]), \n",
    "                                        cov=np.diag([1e-10, 1e-10, 1e-10]))\n",
    "        self.motion_noise_stds = motion_noise_stds #追加\n",
    "        \n",
    "    def motion_update(self, nu, omega, time): #追加\n",
    "        if nu < 1e-10 and omega < 1e-10:\n",
    "            return\n",
    "        \n",
    "        v = self.motion_noise_stds\n",
    "        M = np.diag([v[\"nn\"]**2*nu/time + v[\"no\"]**2*omega/time, \n",
    "                     v[\"on\"]**2*nu/time + v[\"oo\"]**2*omega/time])\n",
    "        \n",
    "        A = time * np.array([[math.cos(self.belief.mean[2]), 0.0],\n",
    "                             [math.sin(self.belief.mean[2]), 0.0],\n",
    "                             [0.0, 1.0]])\n",
    "        \n",
    "        R = A.dot(M).dot(A.T)\n",
    "        \n",
    "        print(R)\n",
    "        \n",
    "    def draw(self, ax, elems):\n",
    "        ###xy平面上での誤差楕円（3シグマ範囲）###\n",
    "        eig_vals, eig_vec = np.linalg.eig(self.belief.cov[0:2, 0:2])\n",
    "        ang = math.atan2(eig_vec[:,0][1], eig_vec[:,0][0])/math.pi*180\n",
    "        e = Ellipse(self.belief.mean[0:2], width=3*eig_vals[0],height=3*eig_vals[1],\n",
    "                       angle=ang, fill=False, color=\"blue\", alpha=0.5)\n",
    "        elems.append(ax.add_patch(e))\n",
    "\n",
    "        ###θ方向の誤差の3シグマ範囲###\n",
    "        x, y, c = self.belief.mean\n",
    "        sigma3 = math.sqrt(self.belief.cov[2, 2])*3\n",
    "        xs = [x + math.cos(c-sigma3), x, x + math.cos(c+sigma3)]\n",
    "        ys = [y + math.sin(c-sigma3), y, y + math.sin(c+sigma3)]\n",
    "        elems += ax.plot(xs, ys, color=\"blue\", alpha=0.5)"
   ]
  },
  {
   "cell_type": "code",
   "execution_count": 3,
   "metadata": {},
   "outputs": [],
   "source": [
    "class KfAgent(Agent):\n",
    "    def __init__(self, time_interval, nu, omega, init_pose, envmap, \\\n",
    "                motion_noise_stds={\"nn\":0.19, \"no\":0.001, \"on\":0.13, \"oo\":0.2}):\n",
    "        super().__init__(nu, omega)\n",
    "        self.kf = KalmanFilter(envmap, init_pose, motion_noise_stds) #書き換え\n",
    "        self.time_interval = time_interval\n",
    "        \n",
    "    def decision(self, observation=None): ###fig:kfdecision1\n",
    "        self.kf.motion_update(self.nu, self.omega, self.time_interval)\n",
    "        return self.nu, self.omega\n",
    "        \n",
    "    def draw(self, ax, elems): #追加\n",
    "        self.kf.draw(ax, elems)"
   ]
  },
  {
   "cell_type": "code",
   "execution_count": 4,
   "metadata": {},
   "outputs": [
    {
     "name": "stdout",
     "output_type": "stream",
     "text": [
      "[[ 0.00072202  0.          0.        ]\n",
      " [ 0.          0.          0.        ]\n",
      " [ 0.          0.          0.00103613]]\n"
     ]
    }
   ],
   "source": [
    "if __name__ == '__main__': \n",
    "    time_interval = 0.1\n",
    "    world = World(30, time_interval) \n",
    "\n",
    "    ### 地図を生成して3つランドマークを追加 ###\n",
    "    m = Map()                                  \n",
    "    m.append_landmark(Landmark(-4,2))\n",
    "    m.append_landmark(Landmark(2,-3))\n",
    "    m.append_landmark(Landmark(3,3))\n",
    "    world.append(m)          \n",
    "\n",
    "    ### ロボットを作る ###\n",
    "    circling = KfAgent(time_interval, 0.2, 10.0/180*math.pi, np.array([0, 0, 0]).T, m)\n",
    "    r = Robot(np.array([0, 0, 0]).T, sensor=Camera(m), agent=circling, color=\"red\")\n",
    "    world.append(r)\n",
    "\n",
    "    #world.draw()                       # アニメーションさせるとき\n",
    "    r.one_step(time_interval)  # アニメーションなしでデバッグするとき"
   ]
  }
 ],
 "metadata": {
  "kernelspec": {
   "display_name": "Python 3",
   "language": "python",
   "name": "python3"
  },
  "language_info": {
   "codemirror_mode": {
    "name": "ipython",
    "version": 3
   },
   "file_extension": ".py",
   "mimetype": "text/x-python",
   "name": "python",
   "nbconvert_exporter": "python",
   "pygments_lexer": "ipython3",
   "version": "3.6.3"
  }
 },
 "nbformat": 4,
 "nbformat_minor": 2
}
