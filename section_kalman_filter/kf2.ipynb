{
 "cells": [
  {
   "cell_type": "code",
   "execution_count": 1,
   "metadata": {},
   "outputs": [],
   "source": [
    "import sys  ###kfheader\n",
    "sys.path.append('../scripts/')\n",
    "from robot import *\n",
    "from scipy.stats import multivariate_normal #追加（多変量ガウス分布のモジュール。既出）\n",
    "from matplotlib.patches import Ellipse           #  追加"
   ]
  },
  {
   "cell_type": "code",
   "execution_count": 2,
   "metadata": {},
   "outputs": [],
   "source": [
    "def sigma_ellipse(p, cov, n): ###kf2threesigma\n",
    "    eig_vals, eig_vec = np.linalg.eig(cov)\n",
    "    ang = math.atan2(eig_vec[:,0][1], eig_vec[:,0][0])/math.pi*180\n",
    "    return Ellipse(p, width=n*math.sqrt(eig_vals[0]),height=n*math.sqrt(eig_vals[1]), angle=ang, fill=False, color=\"blue\", alpha=0.5)"
   ]
  },
  {
   "cell_type": "code",
   "execution_count": 3,
   "metadata": {},
   "outputs": [],
   "source": [
    "class KalmanFilter: ###kalmanfilter1\n",
    "    def __init__(self, envmap, init_pose, motion_noise_stds):\n",
    "        self.belief = multivariate_normal(mean=np.array([0.0, 0.0, math.pi/4]), cov=np.diag([0.1, 0.2, 0.01]))\n",
    "        \n",
    "    def draw(self, ax, elems):\n",
    "        ###xy平面上の誤差の10シグマ範囲###\n",
    "        e = sigma_ellipse(self.belief.mean[0:2], self.belief.cov[0:2, 0:2], 3)\n",
    "        elems.append(ax.add_patch(e))\n",
    "\n",
    "        ###θ方向の誤差の3シグマ範囲###\n",
    "        x, y, c = self.belief.mean\n",
    "        sigma3 = math.sqrt(self.belief.cov[2, 2])*3\n",
    "        xs = [x + math.cos(c-sigma3), x, x + math.cos(c+sigma3)]\n",
    "        ys = [y + math.sin(c-sigma3), y, y + math.sin(c+sigma3)]\n",
    "        elems += ax.plot(xs, ys, color=\"blue\", alpha=0.5)"
   ]
  },
  {
   "cell_type": "code",
   "execution_count": 4,
   "metadata": {},
   "outputs": [],
   "source": [
    "class KfAgent(Agent): ###kfagent\n",
    "    def __init__(self, time_interval, nu, omega, init_pose, envmap, \\\n",
    "                motion_noise_stds={\"nn\":0.19, \"no\":0.001, \"on\":0.13, \"oo\":0.2}):\n",
    "        super().__init__(nu, omega)\n",
    "        self.kf = KalmanFilter(envmap, init_pose, motion_noise_stds) #書き換え\n",
    "        self.time_interval = time_interval\n",
    "        \n",
    "    def draw(self, ax, elems): #追加\n",
    "        self.kf.draw(ax, elems)"
   ]
  },
  {
   "cell_type": "code",
   "execution_count": 5,
   "metadata": {},
   "outputs": [],
   "source": [
    "if __name__ == '__main__': \n",
    "    time_interval = 0.1\n",
    "    world = World(30, time_interval, debug=False) \n",
    "\n",
    "    ### 地図を生成して3つランドマークを追加 ###\n",
    "    m = Map()                                  \n",
    "    m.append_landmark(Landmark(-4,2))\n",
    "    m.append_landmark(Landmark(2,-3))\n",
    "    m.append_landmark(Landmark(3,3))\n",
    "    world.append(m)          \n",
    "\n",
    "    ### ロボットを作る ###\n",
    "    circling = KfAgent(time_interval, 0.2, 10.0/180*math.pi, np.array([0, 0, 0]).T, m)\n",
    "    r = Robot(np.array([0, 0, 0]).T, sensor=Camera(m), agent=circling, color=\"red\")\n",
    "    world.append(r)\n",
    "\n",
    "    world.draw()"
   ]
  },
  {
   "cell_type": "code",
   "execution_count": null,
   "metadata": {},
   "outputs": [],
   "source": []
  }
 ],
 "metadata": {
  "kernelspec": {
   "display_name": "Python 3",
   "language": "python",
   "name": "python3"
  },
  "language_info": {
   "codemirror_mode": {
    "name": "ipython",
    "version": 3
   },
   "file_extension": ".py",
   "mimetype": "text/x-python",
   "name": "python",
   "nbconvert_exporter": "python",
   "pygments_lexer": "ipython3",
   "version": "3.7.0"
  }
 },
 "nbformat": 4,
 "nbformat_minor": 2
}
