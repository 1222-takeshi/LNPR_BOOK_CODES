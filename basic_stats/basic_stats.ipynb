{
 "cells": [
  {
   "cell_type": "code",
   "execution_count": 1,
   "metadata": {},
   "outputs": [
    {
     "name": "stdout",
     "output_type": "stream",
     "text": [
      "              0       1    2    3\n",
      "0      20180122   95819  305  214\n",
      "1      20180122   95822  299  211\n",
      "2      20180122   95826  292  199\n",
      "3      20180122   95829  321  208\n",
      "4      20180122   95832  298  212\n",
      "5      20180122   95835  327  212\n",
      "6      20180122   95838  293  215\n",
      "7      20180122   95840  309  218\n",
      "8      20180122   95843  323  208\n",
      "9      20180122   95846  292  217\n",
      "10     20180122   95850  294  215\n",
      "11     20180122   95852  323  218\n",
      "12     20180122   95856  319  218\n",
      "13     20180122   95858  313  214\n",
      "14     20180122   95902  298  209\n",
      "15     20180122   95905  296  211\n",
      "16     20180122   95908  294  210\n",
      "17     20180122   95911  314  215\n",
      "18     20180122   95914  300  212\n",
      "19     20180122   95917  324  219\n",
      "20     20180122   95920  295  220\n",
      "21     20180122   95922  320  214\n",
      "22     20180122   95925  302  211\n",
      "23     20180122   95928  303  215\n",
      "24     20180122   95932  297  215\n",
      "25     20180122   95934  306  210\n",
      "26     20180122   95937  302  217\n",
      "27     20180122   95940  296  215\n",
      "28     20180122   95943  308  213\n",
      "29     20180122   95947  303  211\n",
      "...         ...     ...  ...  ...\n",
      "58958  20180124  115907  297  210\n",
      "58959  20180124  115910  320  204\n",
      "58960  20180124  115914  324  205\n",
      "58961  20180124  115917  302  199\n",
      "58962  20180124  115919  299  203\n",
      "58963  20180124  115923  298  206\n",
      "58964  20180124  115925  301  206\n",
      "58965  20180124  115929  321  206\n",
      "58966  20180124  115932  319  209\n",
      "58967  20180124  115935  311  208\n",
      "58968  20180124  115938  326  204\n",
      "58969  20180124  115941  319  206\n",
      "58970  20180124  115944  303  201\n",
      "58971  20180124  115947  323  203\n",
      "58972  20180124  115950  302  205\n",
      "58973  20180124  115953  314  202\n",
      "58974  20180124  115956  326  204\n",
      "58975  20180124  115959  308  201\n",
      "58976  20180124  120002  302  209\n",
      "58977  20180124  120005  303  207\n",
      "58978  20180124  120009  310  206\n",
      "58979  20180124  120012  330  208\n",
      "58980  20180124  120015  305  205\n",
      "58981  20180124  120018  301  202\n",
      "58982  20180124  120021  320  206\n",
      "58983  20180124  120023  313  208\n",
      "58984  20180124  120026  297  200\n",
      "58985  20180124  120030  323  204\n",
      "58986  20180124  120033  326  207\n",
      "58987  20180124  120036  321  208\n",
      "\n",
      "[58988 rows x 4 columns]\n"
     ]
    }
   ],
   "source": [
    "import pandas as pd\n",
    "\n",
    "data  = pd.read_csv(\"sensor_data_200.txt\", delimiter=\" \", header=None)\n",
    "\n",
    "print(data)"
   ]
  },
  {
   "cell_type": "code",
   "execution_count": 2,
   "metadata": {},
   "outputs": [
    {
     "name": "stdout",
     "output_type": "stream",
     "text": [
      "[214 211 199 208 212 212 215 218 208 217 215 218 218 214 209 211 210 215\n",
      " 212 219 220 214 211 215 215 210 217 215 213 211 215 213 211 218 217 209\n",
      " 215 212 212 214 212 215 214 221 214 212 209 212 214 212 211 214 207 216\n",
      " 216 216 213 213 206 203 213 215 214 216 211 213 216 212 216 221 214 211\n",
      " 213 223 214 212 213 212 212 209 214 214 217 210 215 214 213 212 216 215\n",
      " 212 216 213 211 215 214 207 217 219 210]\n"
     ]
    }
   ],
   "source": [
    "lidar = data[3].values\n",
    "print(lidar[0:100])"
   ]
  },
  {
   "cell_type": "code",
   "execution_count": 3,
   "metadata": {},
   "outputs": [
    {
     "data": {
      "text/plain": [
       "(array([  4.00000000e+00,   1.00000000e+01,   1.30000000e+01,\n",
       "          5.90000000e+01,   8.40000000e+01,   2.05000000e+02,\n",
       "          3.53000000e+02,   6.68000000e+02,   1.05300000e+03,\n",
       "          1.58400000e+03,   2.25200000e+03,   2.63800000e+03,\n",
       "          3.22500000e+03,   3.67400000e+03,   3.92000000e+03,\n",
       "          4.26100000e+03,   4.22800000e+03,   4.35500000e+03,\n",
       "          4.40900000e+03,   4.20100000e+03,   3.89700000e+03,\n",
       "          3.57200000e+03,   3.10800000e+03,   2.45900000e+03,\n",
       "          1.81200000e+03,   1.22400000e+03,   7.49000000e+02,\n",
       "          4.86000000e+02,   2.52000000e+02,   1.27000000e+02,\n",
       "          5.50000000e+01,   3.20000000e+01,   0.00000000e+00,\n",
       "          1.50000000e+01,   3.00000000e+00,   1.00000000e+00]),\n",
       " array([ 193.,  194.,  195.,  196.,  197.,  198.,  199.,  200.,  201.,\n",
       "         202.,  203.,  204.,  205.,  206.,  207.,  208.,  209.,  210.,\n",
       "         211.,  212.,  213.,  214.,  215.,  216.,  217.,  218.,  219.,\n",
       "         220.,  221.,  222.,  223.,  224.,  225.,  226.,  227.,  228.,  229.]),\n",
       " <a list of 36 Patch objects>)"
      ]
     },
     "execution_count": 3,
     "metadata": {},
     "output_type": "execute_result"
    }
   ],
   "source": [
    "import matplotlib.pyplot as plt\n",
    "plt.hist(lidar, bins=max(lidar)-min(lidar))"
   ]
  },
  {
   "cell_type": "code",
   "execution_count": 4,
   "metadata": {},
   "outputs": [
    {
     "data": {
      "image/png": "[encoded data removed]",
      "text/plain": [
       "<matplotlib.figure.Figure at 0x10bb1fa20>"
      ]
     },
     "metadata": {},
     "output_type": "display_data"
    }
   ],
   "source": [
    "plt.show()"
   ]
  },
  {
   "cell_type": "code",
   "execution_count": null,
   "metadata": {},
   "outputs": [],
   "source": []
  }
 ],
 "metadata": {
  "kernelspec": {
   "display_name": "Python 3",
   "language": "python",
   "name": "python3"
  },
  "language_info": {
   "codemirror_mode": {
    "name": "ipython",
    "version": 3
   },
   "file_extension": ".py",
   "mimetype": "text/x-python",
   "name": "python",
   "nbconvert_exporter": "python",
   "pygments_lexer": "ipython3",
   "version": "3.6.3"
  }
 },
 "nbformat": 4,
 "nbformat_minor": 2
}
