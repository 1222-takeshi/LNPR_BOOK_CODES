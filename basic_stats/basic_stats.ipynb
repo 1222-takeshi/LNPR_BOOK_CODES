{
 "cells": [
  {
   "cell_type": "code",
   "execution_count": 1,
   "metadata": {},
   "outputs": [
    {
     "name": "stdout",
     "output_type": "stream",
     "text": [
      "           date    time   ir  lidar\n",
      "0      20180122   95819  305    214\n",
      "1      20180122   95822  299    211\n",
      "2      20180122   95826  292    199\n",
      "3      20180122   95829  321    208\n",
      "4      20180122   95832  298    212\n",
      "5      20180122   95835  327    212\n",
      "6      20180122   95838  293    215\n",
      "7      20180122   95840  309    218\n",
      "8      20180122   95843  323    208\n",
      "9      20180122   95846  292    217\n",
      "10     20180122   95850  294    215\n",
      "11     20180122   95852  323    218\n",
      "12     20180122   95856  319    218\n",
      "13     20180122   95858  313    214\n",
      "14     20180122   95902  298    209\n",
      "15     20180122   95905  296    211\n",
      "16     20180122   95908  294    210\n",
      "17     20180122   95911  314    215\n",
      "18     20180122   95914  300    212\n",
      "19     20180122   95917  324    219\n",
      "20     20180122   95920  295    220\n",
      "21     20180122   95922  320    214\n",
      "22     20180122   95925  302    211\n",
      "23     20180122   95928  303    215\n",
      "24     20180122   95932  297    215\n",
      "25     20180122   95934  306    210\n",
      "26     20180122   95937  302    217\n",
      "27     20180122   95940  296    215\n",
      "28     20180122   95943  308    213\n",
      "29     20180122   95947  303    211\n",
      "...         ...     ...  ...    ...\n",
      "58958  20180124  115907  297    210\n",
      "58959  20180124  115910  320    204\n",
      "58960  20180124  115914  324    205\n",
      "58961  20180124  115917  302    199\n",
      "58962  20180124  115919  299    203\n",
      "58963  20180124  115923  298    206\n",
      "58964  20180124  115925  301    206\n",
      "58965  20180124  115929  321    206\n",
      "58966  20180124  115932  319    209\n",
      "58967  20180124  115935  311    208\n",
      "58968  20180124  115938  326    204\n",
      "58969  20180124  115941  319    206\n",
      "58970  20180124  115944  303    201\n",
      "58971  20180124  115947  323    203\n",
      "58972  20180124  115950  302    205\n",
      "58973  20180124  115953  314    202\n",
      "58974  20180124  115956  326    204\n",
      "58975  20180124  115959  308    201\n",
      "58976  20180124  120002  302    209\n",
      "58977  20180124  120005  303    207\n",
      "58978  20180124  120009  310    206\n",
      "58979  20180124  120012  330    208\n",
      "58980  20180124  120015  305    205\n",
      "58981  20180124  120018  301    202\n",
      "58982  20180124  120021  320    206\n",
      "58983  20180124  120023  313    208\n",
      "58984  20180124  120026  297    200\n",
      "58985  20180124  120030  323    204\n",
      "58986  20180124  120033  326    207\n",
      "58987  20180124  120036  321    208\n",
      "\n",
      "[58988 rows x 4 columns]\n"
     ]
    }
   ],
   "source": [
    "import pandas as pd    ###dataread###（1〜4行目と出力の上5行くらいを図示）\n",
    "data  = pd.read_csv(\"sensor_data_200.txt\", delimiter=\" \", \n",
    "                    header=None, names = (\"date\",\"time\",\"ir\",\"lidar\"))\n",
    "print(data)"
   ]
  },
  {
   "cell_type": "code",
   "execution_count": 2,
   "metadata": {},
   "outputs": [
    {
     "name": "stdout",
     "output_type": "stream",
     "text": [
      "0    214\n",
      "1    211\n",
      "2    199\n",
      "3    208\n",
      "4    212\n",
      "Name: lidar, dtype: int64\n"
     ]
    }
   ],
   "source": [
    "print(data[\"lidar\"][0:5]) ###getvalues###"
   ]
  },
  {
   "cell_type": "code",
   "execution_count": 3,
   "metadata": {},
   "outputs": [
    {
     "data": {
      "image/png": "[encoded data removed]",
      "text/plain": [
       "<matplotlib.figure.Figure at 0x109d33898>"
      ]
     },
     "metadata": {},
     "output_type": "display_data"
    }
   ],
   "source": [
    "import matplotlib.pyplot as plt\n",
    "data[\"lidar\"].hist(bins = max(data[\"lidar\"]) - min(data[\"lidar\"]))\n",
    "plt.show()"
   ]
  },
  {
   "cell_type": "code",
   "execution_count": 4,
   "metadata": {},
   "outputs": [
    {
     "name": "stdout",
     "output_type": "stream",
     "text": [
      "209.737132976 209.737132976\n"
     ]
    }
   ],
   "source": [
    "mean1 = sum(data[\"lidar\"].values)/len(data[\"lidar\"].values)   ###calcmean###\n",
    "mean2 = data[\"lidar\"].mean()\n",
    "print(mean1,mean2)"
   ]
  },
  {
   "cell_type": "code",
   "execution_count": 5,
   "metadata": {},
   "outputs": [
    {
     "data": {
      "image/png": "[encoded data removed]",
      "text/plain": [
       "<matplotlib.figure.Figure at 0x109d336a0>"
      ]
     },
     "metadata": {},
     "output_type": "display_data"
    }
   ],
   "source": [
    "data[\"lidar\"].hist(bins = max(data[\"lidar\"]) - min(data[\"lidar\"]),color=\"orange\")   ###avgplot###\n",
    "plt.vlines(mean1,ymin=0,ymax=5000,color=\"red\")\n",
    "plt.show()"
   ]
  },
  {
   "cell_type": "code",
   "execution_count": 6,
   "metadata": {},
   "outputs": [
    {
     "name": "stdout",
     "output_type": "stream",
     "text": [
      "23.4081065986\n",
      "23.4081065986\n"
     ]
    }
   ],
   "source": [
    "xs = data[\"lidar\"].values\n",
    "mean = sum(xs)/len(xs)\n",
    "diff_square = [ (x - mean)**2 for x in xs]\n",
    "var = sum(diff_square)/(len(xs)-1)\n",
    "\n",
    "print(var)\n",
    "print(data[\"lidar\"].var())"
   ]
  },
  {
   "cell_type": "code",
   "execution_count": 7,
   "metadata": {},
   "outputs": [
    {
     "name": "stdout",
     "output_type": "stream",
     "text": [
      "4.83819249292\n"
     ]
    }
   ],
   "source": [
    "print(data[\"lidar\"].std())"
   ]
  },
  {
   "cell_type": "code",
   "execution_count": null,
   "metadata": {},
   "outputs": [],
   "source": []
  },
  {
   "cell_type": "code",
   "execution_count": null,
   "metadata": {},
   "outputs": [],
   "source": []
  }
 ],
 "metadata": {
  "kernelspec": {
   "display_name": "Python 3",
   "language": "python",
   "name": "python3"
  },
  "language_info": {
   "codemirror_mode": {
    "name": "ipython",
    "version": 3
   },
   "file_extension": ".py",
   "mimetype": "text/x-python",
   "name": "python",
   "nbconvert_exporter": "python",
   "pygments_lexer": "ipython3",
   "version": "3.6.3"
  }
 },
 "nbformat": 4,
 "nbformat_minor": 2
}
