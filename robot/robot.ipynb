{
 "cells": [
  {
   "cell_type": "code",
   "execution_count": 1,
   "metadata": {
    "scrolled": true
   },
   "outputs": [
    {
     "data": {
      "image/png": "[encoded data removed]",
      "text/plain": [
       "<matplotlib.figure.Figure at 0x7fc7cd361668>"
      ]
     },
     "metadata": {},
     "output_type": "display_data"
    }
   ],
   "source": [
    "%matplotlib inline\n",
    "import matplotlib.pyplot as plt\n",
    "\n",
    "class World():\n",
    "    def __init__(self,objects=[]):\n",
    "        self.objects = objects\n",
    "        \n",
    "    def append(self,obj):\n",
    "        self.objects.append(obj)\n",
    "    \n",
    "    def draw(self):\n",
    "        plt.figure(figsize=(6,6))\n",
    "        plt.axes().set_aspect('equal')\n",
    "        plt.xlim(-5,5)\n",
    "        plt.ylim(-5,5)\n",
    "        plt.title(\"$\\Sigma_{robot}$\")\n",
    "        plt.xlabel(\"X\")\n",
    "        plt.ylabel(\"Y\")\n",
    "        \n",
    "        for obj in self.objects: obj.draw() \n",
    "        \n",
    "world = World()\n",
    "world.draw()"
   ]
  },
  {
   "cell_type": "code",
   "execution_count": 2,
   "metadata": {},
   "outputs": [],
   "source": [
    "import math, random\n",
    "import numpy as np\n",
    "import matplotlib.patches as patches\n",
    "\n",
    "class Robot():\n",
    "    def __init__(self, pose, rot_noise_ratio, fw_noise_ratio, color=\"black\"):\n",
    "        self.pose = pose\n",
    "        self.rot_noise_ratio = rot_noise_ratio\n",
    "        self.fw_noise_ratio = fw_noise_ratio\n",
    "        self.r = 0.5\n",
    "        self.color = color\n",
    "        \n",
    "    def draw(self):\n",
    "        x, y, theta = self.pose\n",
    "        xn = x + self.r * math.cos(theta)\n",
    "        yn = y + self.r * math.sin(theta)\n",
    "        plt.plot([x,xn], [y,yn], color=self.color)\n",
    "        \n",
    "        c = patches.Circle(xy=(x, y), radius=self.r, fill=False, color=self.color)\n",
    "        plt.gca().add_patch(c)\n",
    "        \n",
    "    def motion_model_discrete(self, pose, rot, fw):\n",
    "        x, y, theta = pose\n",
    "        actual_rot = random.gauss(rot, rot*self.rot_noise_ratio)\n",
    "        actual_fw = random.gauss(fw, fw*self.fw_noise_ratio)\n",
    "        \n",
    "        theta += actual_rot\n",
    "        x += actual_fw * math.cos(theta)\n",
    "        y += actual_fw * math.sin(theta)\n",
    "        \n",
    "        return np.array([x,y,theta]).T\n",
    "    \n",
    "    def motion_discrete(self, rot, fw):\n",
    "        self.pose = self.motion_model_discrete(self.pose, rot, fw)"
   ]
  },
  {
   "cell_type": "code",
   "execution_count": 3,
   "metadata": {},
   "outputs": [],
   "source": [
    "class Logger():\n",
    "    def __init__(self,color=\"red\"):\n",
    "        self.poses = []\n",
    "        self.color = color\n",
    "        \n",
    "    def append(self,pose):\n",
    "        self.poses.append(pose)\n",
    "        \n",
    "    def draw(self):\n",
    "        xs = [p[0] for p in self.poses]\n",
    "        ys = [p[1] for p in self.poses]\n",
    "        cs = [math.cos(p[2]) for p in self.poses]\n",
    "        ss = [math.sin(p[2]) for p in self.poses]\n",
    "        \n",
    "        plt.quiver(xs, ys, cs, ss,color=self.color)"
   ]
  },
  {
   "cell_type": "code",
   "execution_count": 4,
   "metadata": {},
   "outputs": [
    {
     "data": {
      "image/png": "[encoded data removed]",
      "text/plain": [
       "<matplotlib.figure.Figure at 0x7fc7cb264f60>"
      ]
     },
     "metadata": {},
     "output_type": "display_data"
    }
   ],
   "source": [
    "world = World()\n",
    "\n",
    "for i in range(10):\n",
    "    robot = Robot(np.array([-3,-3,0]).T,0.1,0.1)\n",
    "    world.append(robot)\n",
    "\n",
    "    logger = Logger()\n",
    "    logger.append(robot.pose)\n",
    "    world.append(logger)\n",
    "\n",
    "    for i in range(20):\n",
    "        robot.motion_discrete(math.pi/36, 0.5)\n",
    "        logger.append(robot.pose)\n",
    "\n",
    "world.draw()"
   ]
  },
  {
   "cell_type": "code",
   "execution_count": null,
   "metadata": {},
   "outputs": [],
   "source": []
  }
 ],
 "metadata": {
  "kernelspec": {
   "display_name": "Python 3",
   "language": "python",
   "name": "python3"
  },
  "language_info": {
   "codemirror_mode": {
    "name": "ipython",
    "version": 3
   },
   "file_extension": ".py",
   "mimetype": "text/x-python",
   "name": "python",
   "nbconvert_exporter": "python",
   "pygments_lexer": "ipython3",
   "version": "3.6.3"
  }
 },
 "nbformat": 4,
 "nbformat_minor": 2
}
