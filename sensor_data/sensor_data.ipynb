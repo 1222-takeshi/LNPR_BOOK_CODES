{
 "cells": [
  {
   "cell_type": "code",
   "execution_count": 1,
   "metadata": {
    "collapsed": true
   },
   "outputs": [],
   "source": [
    "import matplotlib.pyplot as plt\n",
    "import numpy as np"
   ]
  },
  {
   "cell_type": "code",
   "execution_count": 2,
   "metadata": {
    "collapsed": false,
    "scrolled": false
   },
   "outputs": [
    {
     "name": "stdout",
     "output_type": "stream",
     "text": [
      "[['1516152354.446454102', '116', '0.28200000524520874'], ['1516152357.667763285', '133', '0.27799999713897705'], ['1516152360.428825744', '130', '0.2849999964237213']]\n"
     ]
    }
   ],
   "source": [
    "with open(\"sensor_data.txt\",\"r\") as f:\n",
    "    data = [line.split() for line in f ]\n",
    "\n",
    "print(data[:3])"
   ]
  },
  {
   "cell_type": "code",
   "execution_count": 3,
   "metadata": {
    "collapsed": false
   },
   "outputs": [
    {
     "name": "stdout",
     "output_type": "stream",
     "text": [
      "[282, 278, 285, 281, 284, 281, 286, 284, 282, 288, 287, 285, 279, 284, 280, 283, 278, 282, 281, 282, 280, 281, 280, 282, 285, 282, 285, 282, 281, 284, 281, 283, 280, 279, 279, 283, 279, 282, 285, 284, 282, 284, 285, 285, 281, 281, 282, 291, 286, 279, 279, 284, 280, 281, 278, 282, 283, 282, 279, 281, 283, 276, 277, 280, 283, 278, 287, 283, 282, 281, 283, 282, 283, 281, 276, 282, 285, 277, 283, 282, 284, 283, 280, 281, 277, 279, 281, 283, 280, 282, 279, 280, 278, 279, 283, 281, 281, 285, 285, 278]\n"
     ]
    }
   ],
   "source": [
    "urg = [round(float(d[2])*1000) for d in data]\n",
    "print(urg[0:100])"
   ]
  },
  {
   "cell_type": "code",
   "execution_count": 4,
   "metadata": {
    "collapsed": false
   },
   "outputs": [
    {
     "data": {
      "text/plain": [
       "(array([  2.,   0.,   7.,  20.,  40., 100., 205., 339., 476., 591., 733.,\n",
       "        784., 720., 568., 439., 272., 179., 113.,  62.,  26.,  23.,   5.,\n",
       "          5.,   1.,   0.,   2.]),\n",
       " array([265., 266., 267., 268., 269., 270., 271., 272., 273., 274., 275.,\n",
       "        276., 277., 278., 279., 280., 281., 282., 283., 284., 285., 286.,\n",
       "        287., 288., 289., 290., 291.]),\n",
       " <a list of 26 Patch objects>)"
      ]
     },
     "execution_count": 4,
     "metadata": {},
     "output_type": "execute_result"
    },
    {
     "data": {
      "image/png": "[encoded data removed]",
      "text/plain": [
       "<matplotlib.figure.Figure at 0x7f87b5e25e80>"
      ]
     },
     "metadata": {},
     "output_type": "display_data"
    }
   ],
   "source": [
    "plt.hist(urg, bins=max(urg)-min(urg))"
   ]
  },
  {
   "cell_type": "code",
   "execution_count": 5,
   "metadata": {
    "collapsed": false
   },
   "outputs": [
    {
     "data": {
      "text/plain": [
       "(array([  1.,   4.,   9.,   6.,  25.,  42.,  70.,  89., 157., 177., 183.,\n",
       "        197., 208., 196., 245., 260., 207., 237., 224., 181., 204., 220.,\n",
       "        216., 216., 234., 234., 233., 226., 228., 196., 184., 127., 121.,\n",
       "         99.,  79.,  63.,  42.,  27.,  26.,   8.,  11.]),\n",
       " array([107., 108., 109., 110., 111., 112., 113., 114., 115., 116., 117.,\n",
       "        118., 119., 120., 121., 122., 123., 124., 125., 126., 127., 128.,\n",
       "        129., 130., 131., 132., 133., 134., 135., 136., 137., 138., 139.,\n",
       "        140., 141., 142., 143., 144., 145., 146., 147., 148.]),\n",
       " <a list of 41 Patch objects>)"
      ]
     },
     "execution_count": 5,
     "metadata": {},
     "output_type": "execute_result"
    },
    {
     "data": {
      "image/png": "[encoded data removed]",
      "text/plain": [
       "<matplotlib.figure.Figure at 0x7f87b38c5240>"
      ]
     },
     "metadata": {},
     "output_type": "display_data"
    }
   ],
   "source": [
    "light = [int(d[1]) for d in data]\n",
    "plt.hist(light, bins=max(light)-min(light))"
   ]
  },
  {
   "cell_type": "code",
   "execution_count": 6,
   "metadata": {
    "collapsed": false
   },
   "outputs": [
    {
     "name": "stdout",
     "output_type": "stream",
     "text": [
      "[116, 133, 130, 127, 130, 123, 117, 118, 135, 132, 122, 126, 123, 130, 133, 133, 110, 127, 121, 115, 134, 125, 134, 133, 139, 121, 114, 121, 121, 147, 121, 143, 112, 138, 131, 125, 128, 138, 131, 134, 133, 122, 139, 130, 122, 131, 126, 122, 134, 137, 136, 117, 113, 137, 133, 123, 117, 114, 119, 123, 130, 115, 123, 131, 123, 126, 137, 133, 118, 114, 129, 147, 118, 139, 115, 132, 118, 119, 125, 125, 126, 123, 132, 124, 131, 120, 120, 130, 135, 116, 132, 115, 129, 121, 132, 137, 124, 134, 136, 127]\n"
     ]
    }
   ],
   "source": [
    "print(light[0:100])"
   ]
  },
  {
   "cell_type": "code",
   "execution_count": 7,
   "metadata": {
    "collapsed": false
   },
   "outputs": [
    {
     "data": {
      "text/plain": [
       "5712"
      ]
     },
     "execution_count": 7,
     "metadata": {},
     "output_type": "execute_result"
    }
   ],
   "source": [
    "len(data)"
   ]
  },
  {
   "cell_type": "code",
   "execution_count": null,
   "metadata": {
    "collapsed": true
   },
   "outputs": [],
   "source": []
  }
 ],
 "metadata": {
  "kernelspec": {
   "display_name": "Python 3",
   "language": "python",
   "name": "python3"
  },
  "language_info": {
   "codemirror_mode": {
    "name": "ipython",
    "version": 3
   },
   "file_extension": ".py",
   "mimetype": "text/x-python",
   "name": "python",
   "nbconvert_exporter": "python",
   "pygments_lexer": "ipython3",
   "version": "3.6.3"
  }
 },
 "nbformat": 4,
 "nbformat_minor": 2
}
