{
 "cells": [
  {
   "cell_type": "code",
   "execution_count": 1,
   "metadata": {
    "collapsed": true
   },
   "outputs": [],
   "source": [
    "%matplotlib inline\n",
    "import matplotlib.pyplot as plt\n",
    "import numpy as np"
   ]
  },
  {
   "cell_type": "code",
   "execution_count": 2,
   "metadata": {
    "collapsed": false,
    "scrolled": false
   },
   "outputs": [
    {
     "name": "stdout",
     "output_type": "stream",
     "text": [
      "[['20180122', '095819', '305', '214'], ['20180122', '095822', '299', '211'], ['20180122', '095826', '292', '199']]\n"
     ]
    }
   ],
   "source": [
    "data = [line.split() for line in open(\"sensor_data_200.txt\",\"r\") ]\n",
    "\n",
    "print(data[:3])"
   ]
  },
  {
   "cell_type": "code",
   "execution_count": 3,
   "metadata": {
    "collapsed": false
   },
   "outputs": [
    {
     "name": "stdout",
     "output_type": "stream",
     "text": [
      "[214, 211, 199, 208, 212, 212, 215, 218, 208, 217, 215, 218, 218, 214, 209, 211, 210, 215, 212, 219, 220, 214, 211, 215, 215, 210, 217, 215, 213, 211, 215, 213, 211, 218, 217, 209, 215, 212, 212, 214, 212, 215, 214, 221, 214, 212, 209, 212, 214, 212, 211, 214, 207, 216, 216, 216, 213, 213, 206, 203, 213, 215, 214, 216, 211, 213, 216, 212, 216, 221, 214, 211, 213, 223, 214, 212, 213, 212, 212, 209, 214, 214, 217, 210, 215, 214, 213, 212, 216, 215, 212, 216, 213, 211, 215, 214, 207, 217, 219, 210]\n"
     ]
    }
   ],
   "source": [
    "urg = [int(d[3]) for d in data]\n",
    "print(urg[0:100])"
   ]
  },
  {
   "cell_type": "code",
   "execution_count": 4,
   "metadata": {
    "collapsed": false,
    "scrolled": false
   },
   "outputs": [
    {
     "data": {
      "text/plain": [
       "(array([4.000e+00, 1.000e+01, 1.300e+01, 5.900e+01, 8.400e+01, 2.050e+02,\n",
       "        3.530e+02, 6.680e+02, 1.053e+03, 1.584e+03, 2.252e+03, 2.638e+03,\n",
       "        3.225e+03, 3.674e+03, 3.920e+03, 4.261e+03, 4.228e+03, 4.355e+03,\n",
       "        4.409e+03, 4.201e+03, 3.897e+03, 3.572e+03, 3.108e+03, 2.459e+03,\n",
       "        1.812e+03, 1.224e+03, 7.490e+02, 4.860e+02, 2.520e+02, 1.270e+02,\n",
       "        5.500e+01, 3.200e+01, 0.000e+00, 1.500e+01, 3.000e+00, 1.000e+00]),\n",
       " array([193., 194., 195., 196., 197., 198., 199., 200., 201., 202., 203.,\n",
       "        204., 205., 206., 207., 208., 209., 210., 211., 212., 213., 214.,\n",
       "        215., 216., 217., 218., 219., 220., 221., 222., 223., 224., 225.,\n",
       "        226., 227., 228., 229.]),\n",
       " <a list of 36 Patch objects>)"
      ]
     },
     "execution_count": 4,
     "metadata": {},
     "output_type": "execute_result"
    },
    {
     "data": {
      "image/png": "[encoded data removed]",
      "text/plain": [
       "<matplotlib.figure.Figure at 0x7f0c43817a90>"
      ]
     },
     "metadata": {},
     "output_type": "display_data"
    }
   ],
   "source": [
    "plt.hist(urg, bins=max(urg)-min(urg))"
   ]
  },
  {
   "cell_type": "code",
   "execution_count": 5,
   "metadata": {
    "collapsed": false
   },
   "outputs": [
    {
     "data": {
      "text/plain": [
       "(array([1.000e+00, 6.000e+00, 2.200e+01, 6.600e+01, 1.130e+02, 1.710e+02,\n",
       "        3.240e+02, 4.650e+02, 7.050e+02, 9.230e+02, 1.016e+03, 1.266e+03,\n",
       "        1.436e+03, 1.513e+03, 1.739e+03, 1.807e+03, 1.869e+03, 1.967e+03,\n",
       "        1.931e+03, 2.019e+03, 1.881e+03, 1.904e+03, 1.753e+03, 1.766e+03,\n",
       "        1.750e+03, 1.676e+03, 1.555e+03, 1.627e+03, 1.572e+03, 1.628e+03,\n",
       "        1.639e+03, 1.673e+03, 1.818e+03, 1.661e+03, 1.729e+03, 1.643e+03,\n",
       "        1.701e+03, 1.562e+03, 1.444e+03, 1.341e+03, 1.129e+03, 1.054e+03,\n",
       "        9.420e+02, 7.440e+02, 6.580e+02, 5.440e+02, 3.540e+02, 2.710e+02,\n",
       "        2.130e+02, 1.700e+02, 9.700e+01, 6.600e+01, 2.900e+01, 2.400e+01,\n",
       "        1.100e+01]),\n",
       " array([283., 284., 285., 286., 287., 288., 289., 290., 291., 292., 293.,\n",
       "        294., 295., 296., 297., 298., 299., 300., 301., 302., 303., 304.,\n",
       "        305., 306., 307., 308., 309., 310., 311., 312., 313., 314., 315.,\n",
       "        316., 317., 318., 319., 320., 321., 322., 323., 324., 325., 326.,\n",
       "        327., 328., 329., 330., 331., 332., 333., 334., 335., 336., 337.,\n",
       "        338.]),\n",
       " <a list of 55 Patch objects>)"
      ]
     },
     "execution_count": 5,
     "metadata": {},
     "output_type": "execute_result"
    },
    {
     "data": {
      "image/png": "[encoded data removed]",
      "text/plain": [
       "<matplotlib.figure.Figure at 0x7f0c4219c588>"
      ]
     },
     "metadata": {},
     "output_type": "display_data"
    }
   ],
   "source": [
    "light = [int(d[2]) for d in data]\n",
    "plt.hist(light, bins=max(light)-min(light))"
   ]
  },
  {
   "cell_type": "code",
   "execution_count": 6,
   "metadata": {
    "collapsed": false
   },
   "outputs": [
    {
     "name": "stdout",
     "output_type": "stream",
     "text": [
      "[305, 299, 292, 321, 298, 327, 293, 309, 323, 292, 294, 323, 319, 313, 298, 296, 294, 314, 300, 324, 295, 320, 302, 303, 297, 306, 302, 296, 308, 303, 309, 295, 312, 321, 327, 319, 315, 305, 319, 292, 311, 326, 292, 308, 297, 303, 298, 296, 326, 295, 315, 297, 296, 316, 315, 319, 318, 322, 305, 300, 306, 293, 321, 299, 308, 299, 304, 308, 298, 301, 312, 295, 299, 316, 310, 308, 319, 321, 324, 299, 319, 315, 296, 315, 313, 297, 293, 312, 311, 303, 291, 322, 298, 307, 305, 292, 305, 298, 319, 306]\n"
     ]
    }
   ],
   "source": [
    "print(light[0:100])"
   ]
  },
  {
   "cell_type": "code",
   "execution_count": 7,
   "metadata": {
    "collapsed": false
   },
   "outputs": [
    {
     "data": {
      "text/plain": [
       "58988"
      ]
     },
     "execution_count": 7,
     "metadata": {},
     "output_type": "execute_result"
    }
   ],
   "source": [
    "len(data)"
   ]
  },
  {
   "cell_type": "code",
   "execution_count": null,
   "metadata": {
    "collapsed": true
   },
   "outputs": [],
   "source": []
  }
 ],
 "metadata": {
  "kernelspec": {
   "display_name": "Python 3",
   "language": "python",
   "name": "python3"
  },
  "language_info": {
   "codemirror_mode": {
    "name": "ipython",
    "version": 3
   },
   "file_extension": ".py",
   "mimetype": "text/x-python",
   "name": "python",
   "nbconvert_exporter": "python",
   "pygments_lexer": "ipython3",
   "version": "3.6.3"
  }
 },
 "nbformat": 4,
 "nbformat_minor": 2
}
