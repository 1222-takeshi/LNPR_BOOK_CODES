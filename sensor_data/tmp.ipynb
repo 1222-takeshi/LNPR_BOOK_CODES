{
 "cells": [
  {
   "cell_type": "code",
   "execution_count": 1,
   "metadata": {},
   "outputs": [],
   "source": [
    "%matplotlib inline\n",
    "import matplotlib.pyplot as plt\n",
    "import numpy as np"
   ]
  },
  {
   "cell_type": "code",
   "execution_count": 2,
   "metadata": {
    "scrolled": false
   },
   "outputs": [
    {
     "name": "stdout",
     "output_type": "stream",
     "text": [
      "[['20180122', '095819', '305', '214'], ['20180122', '095822', '299', '211'], ['20180122', '095826', '292', '199']]\n"
     ]
    }
   ],
   "source": [
    "data = [line.split() for line in open(\"sensor_data_200.txt\",\"r\") ]\n",
    "print(data[:3])"
   ]
  },
  {
   "cell_type": "code",
   "execution_count": 3,
   "metadata": {},
   "outputs": [
    {
     "name": "stdout",
     "output_type": "stream",
     "text": [
      "[214, 211, 199, 208, 212, 212, 215, 218, 208, 217, 215, 218, 218, 214, 209, 211, 210, 215, 212, 219, 220, 214, 211, 215, 215, 210, 217, 215, 213, 211, 215, 213, 211, 218, 217, 209, 215, 212, 212, 214, 212, 215, 214, 221, 214, 212, 209, 212, 214, 212, 211, 214, 207, 216, 216, 216, 213, 213, 206, 203, 213, 215, 214, 216, 211, 213, 216, 212, 216, 221, 214, 211, 213, 223, 214, 212, 213, 212, 212, 209, 214, 214, 217, 210, 215, 214, 213, 212, 216, 215, 212, 216, 213, 211, 215, 214, 207, 217, 219, 210]\n"
     ]
    }
   ],
   "source": [
    "urg = [int(d[3]) for d in data]\n",
    "print(urg[0:100])"
   ]
  },
  {
   "cell_type": "code",
   "execution_count": 4,
   "metadata": {
    "scrolled": false
   },
   "outputs": [
    {
     "data": {
      "text/plain": [
       "(array([  4.00000000e+00,   1.00000000e+01,   1.30000000e+01,\n",
       "          5.90000000e+01,   8.40000000e+01,   2.05000000e+02,\n",
       "          3.53000000e+02,   6.68000000e+02,   1.05300000e+03,\n",
       "          1.58400000e+03,   2.25200000e+03,   2.63800000e+03,\n",
       "          3.22500000e+03,   3.67400000e+03,   3.92000000e+03,\n",
       "          4.26100000e+03,   4.22800000e+03,   4.35500000e+03,\n",
       "          4.40900000e+03,   4.20100000e+03,   3.89700000e+03,\n",
       "          3.57200000e+03,   3.10800000e+03,   2.45900000e+03,\n",
       "          1.81200000e+03,   1.22400000e+03,   7.49000000e+02,\n",
       "          4.86000000e+02,   2.52000000e+02,   1.27000000e+02,\n",
       "          5.50000000e+01,   3.20000000e+01,   0.00000000e+00,\n",
       "          1.50000000e+01,   3.00000000e+00,   1.00000000e+00]),\n",
       " array([ 193.,  194.,  195.,  196.,  197.,  198.,  199.,  200.,  201.,\n",
       "         202.,  203.,  204.,  205.,  206.,  207.,  208.,  209.,  210.,\n",
       "         211.,  212.,  213.,  214.,  215.,  216.,  217.,  218.,  219.,\n",
       "         220.,  221.,  222.,  223.,  224.,  225.,  226.,  227.,  228.,  229.]),\n",
       " <a list of 36 Patch objects>)"
      ]
     },
     "execution_count": 4,
     "metadata": {},
     "output_type": "execute_result"
    },
    {
     "data": {
      "image/png": "[encoded data removed]",
      "text/plain": [
       "<matplotlib.figure.Figure at 0x1088ec2e8>"
      ]
     },
     "metadata": {},
     "output_type": "display_data"
    }
   ],
   "source": [
    "plt.hist(urg, bins=max(urg)-min(urg))"
   ]
  },
  {
   "cell_type": "code",
   "execution_count": 5,
   "metadata": {},
   "outputs": [
    {
     "data": {
      "text/plain": [
       "(array([  1.00000000e+00,   6.00000000e+00,   2.20000000e+01,\n",
       "          6.60000000e+01,   1.13000000e+02,   1.71000000e+02,\n",
       "          3.24000000e+02,   4.65000000e+02,   7.05000000e+02,\n",
       "          9.23000000e+02,   1.01600000e+03,   1.26600000e+03,\n",
       "          1.43600000e+03,   1.51300000e+03,   1.73900000e+03,\n",
       "          1.80700000e+03,   1.86900000e+03,   1.96700000e+03,\n",
       "          1.93100000e+03,   2.01900000e+03,   1.88100000e+03,\n",
       "          1.90400000e+03,   1.75300000e+03,   1.76600000e+03,\n",
       "          1.75000000e+03,   1.67600000e+03,   1.55500000e+03,\n",
       "          1.62700000e+03,   1.57200000e+03,   1.62800000e+03,\n",
       "          1.63900000e+03,   1.67300000e+03,   1.81800000e+03,\n",
       "          1.66100000e+03,   1.72900000e+03,   1.64300000e+03,\n",
       "          1.70100000e+03,   1.56200000e+03,   1.44400000e+03,\n",
       "          1.34100000e+03,   1.12900000e+03,   1.05400000e+03,\n",
       "          9.42000000e+02,   7.44000000e+02,   6.58000000e+02,\n",
       "          5.44000000e+02,   3.54000000e+02,   2.71000000e+02,\n",
       "          2.13000000e+02,   1.70000000e+02,   9.70000000e+01,\n",
       "          6.60000000e+01,   2.90000000e+01,   2.40000000e+01,\n",
       "          1.10000000e+01]),\n",
       " array([ 283.,  284.,  285.,  286.,  287.,  288.,  289.,  290.,  291.,\n",
       "         292.,  293.,  294.,  295.,  296.,  297.,  298.,  299.,  300.,\n",
       "         301.,  302.,  303.,  304.,  305.,  306.,  307.,  308.,  309.,\n",
       "         310.,  311.,  312.,  313.,  314.,  315.,  316.,  317.,  318.,\n",
       "         319.,  320.,  321.,  322.,  323.,  324.,  325.,  326.,  327.,\n",
       "         328.,  329.,  330.,  331.,  332.,  333.,  334.,  335.,  336.,\n",
       "         337.,  338.]),\n",
       " <a list of 55 Patch objects>)"
      ]
     },
     "execution_count": 5,
     "metadata": {},
     "output_type": "execute_result"
    },
    {
     "data": {
      "image/png": "[encoded data removed]",
      "text/plain": [
       "<matplotlib.figure.Figure at 0x1072e5978>"
      ]
     },
     "metadata": {},
     "output_type": "display_data"
    }
   ],
   "source": [
    "light = [int(d[2]) for d in data]\n",
    "plt.hist(light, bins=max(light)-min(light))"
   ]
  },
  {
   "cell_type": "code",
   "execution_count": 6,
   "metadata": {},
   "outputs": [
    {
     "name": "stdout",
     "output_type": "stream",
     "text": [
      "[305, 299, 292, 321, 298, 327, 293, 309, 323, 292, 294, 323, 319, 313, 298, 296, 294, 314, 300, 324, 295, 320, 302, 303, 297, 306, 302, 296, 308, 303, 309, 295, 312, 321, 327, 319, 315, 305, 319, 292, 311, 326, 292, 308, 297, 303, 298, 296, 326, 295, 315, 297, 296, 316, 315, 319, 318, 322, 305, 300, 306, 293, 321, 299, 308, 299, 304, 308, 298, 301, 312, 295, 299, 316, 310, 308, 319, 321, 324, 299, 319, 315, 296, 315, 313, 297, 293, 312, 311, 303, 291, 322, 298, 307, 305, 292, 305, 298, 319, 306]\n"
     ]
    }
   ],
   "source": [
    "print(light[0:100])"
   ]
  },
  {
   "cell_type": "code",
   "execution_count": 7,
   "metadata": {},
   "outputs": [
    {
     "data": {
      "text/plain": [
       "58988"
      ]
     },
     "execution_count": 7,
     "metadata": {},
     "output_type": "execute_result"
    }
   ],
   "source": [
    "len(data)"
   ]
  },
  {
   "cell_type": "code",
   "execution_count": 8,
   "metadata": {},
   "outputs": [
    {
     "ename": "ValueError",
     "evalue": "max() arg is an empty sequence",
     "output_type": "error",
     "traceback": [
      "\u001b[0;31m---------------------------------------------------------------------------\u001b[0m",
      "\u001b[0;31mValueError\u001b[0m                                Traceback (most recent call last)",
      "\u001b[0;32m<ipython-input-8-d15850f7c79d>\u001b[0m in \u001b[0;36m<module>\u001b[0;34m()\u001b[0m\n\u001b[1;32m      4\u001b[0m \u001b[0;32mfor\u001b[0m \u001b[0mi\u001b[0m \u001b[0;32min\u001b[0m \u001b[0mrange\u001b[0m\u001b[0;34m(\u001b[0m\u001b[0;36m8\u001b[0m\u001b[0;34m)\u001b[0m\u001b[0;34m:\u001b[0m\u001b[0;34m\u001b[0m\u001b[0m\n\u001b[1;32m      5\u001b[0m     \u001b[0md\u001b[0m \u001b[0;34m=\u001b[0m \u001b[0murg\u001b[0m\u001b[0;34m[\u001b[0m\u001b[0mi\u001b[0m\u001b[0;34m*\u001b[0m\u001b[0;36m10000\u001b[0m\u001b[0;34m:\u001b[0m\u001b[0;34m(\u001b[0m\u001b[0mi\u001b[0m\u001b[0;34m+\u001b[0m\u001b[0;36m1\u001b[0m\u001b[0;34m)\u001b[0m\u001b[0;34m*\u001b[0m\u001b[0;36m10000\u001b[0m\u001b[0;34m]\u001b[0m\u001b[0;34m\u001b[0m\u001b[0m\n\u001b[0;32m----> 6\u001b[0;31m     \u001b[0mplt\u001b[0m\u001b[0;34m.\u001b[0m\u001b[0mhist\u001b[0m\u001b[0;34m(\u001b[0m\u001b[0md\u001b[0m\u001b[0;34m,\u001b[0m \u001b[0mbins\u001b[0m\u001b[0;34m=\u001b[0m\u001b[0mmax\u001b[0m\u001b[0;34m(\u001b[0m\u001b[0md\u001b[0m\u001b[0;34m)\u001b[0m\u001b[0;34m-\u001b[0m\u001b[0mmin\u001b[0m\u001b[0;34m(\u001b[0m\u001b[0md\u001b[0m\u001b[0;34m)\u001b[0m\u001b[0;34m)\u001b[0m\u001b[0;34m\u001b[0m\u001b[0m\n\u001b[0m",
      "\u001b[0;31mValueError\u001b[0m: max() arg is an empty sequence"
     ]
    },
    {
     "data": {
      "image/png": "[encoded data removed]",
      "text/plain": [
       "<matplotlib.figure.Figure at 0x1089f3358>"
      ]
     },
     "metadata": {},
     "output_type": "display_data"
    }
   ],
   "source": [
    "\n",
    "\n",
    "urg = [int(d[3]) for d in data]\n",
    "for i in range(8):\n",
    "    d = urg[i*10000:(i+1)*10000]\n",
    "    plt.hist(d, bins=max(d)-min(d))"
   ]
  },
  {
   "cell_type": "code",
   "execution_count": null,
   "metadata": {},
   "outputs": [],
   "source": [
    "print(data[:10])"
   ]
  },
  {
   "cell_type": "code",
   "execution_count": null,
   "metadata": {},
   "outputs": [],
   "source": [
    "midnight = list(int(e[3]) for e in data if \"000000\" <= e[1] < \"060000\")\n",
    "noon = list(int(e[3]) for e in data if \"120000\" <= e[1] < \"180000\")"
   ]
  },
  {
   "cell_type": "code",
   "execution_count": null,
   "metadata": {},
   "outputs": [],
   "source": [
    "plt.hist(noon, bins=max(noon)-min(noon),color=\"orange\")\n",
    "plt.hist(midnight, bins=max(midnight)-min(midnight),color=\"blue\")"
   ]
  },
  {
   "cell_type": "code",
   "execution_count": null,
   "metadata": {},
   "outputs": [],
   "source": [
    "sum(noon)"
   ]
  },
  {
   "cell_type": "code",
   "execution_count": null,
   "metadata": {},
   "outputs": [],
   "source": [
    "max([ e/sum(midnight) for e in midnight ])\n"
   ]
  },
  {
   "cell_type": "code",
   "execution_count": null,
   "metadata": {},
   "outputs": [],
   "source": [
    "max(midnight)"
   ]
  },
  {
   "cell_type": "markdown",
   "metadata": {},
   "source": [
    "m"
   ]
  },
  {
   "cell_type": "code",
   "execution_count": null,
   "metadata": {},
   "outputs": [],
   "source": [
    "m = np.count(midnight)"
   ]
  },
  {
   "cell_type": "code",
   "execution_count": null,
   "metadata": {},
   "outputs": [],
   "source": [
    "z = np.unique(midnight, return_counts=True)"
   ]
  },
  {
   "cell_type": "code",
   "execution_count": null,
   "metadata": {},
   "outputs": [],
   "source": [
    "print(z)"
   ]
  },
  {
   "cell_type": "code",
   "execution_count": null,
   "metadata": {},
   "outputs": [],
   "source": [
    "sum(z[1])"
   ]
  },
  {
   "cell_type": "code",
   "execution_count": null,
   "metadata": {},
   "outputs": [],
   "source": [
    "max(z[1])/sum(z[1])"
   ]
  },
  {
   "cell_type": "code",
   "execution_count": null,
   "metadata": {},
   "outputs": [],
   "source": []
  }
 ],
 "metadata": {
  "kernelspec": {
   "display_name": "Python 3",
   "language": "python",
   "name": "python3"
  },
  "language_info": {
   "codemirror_mode": {
    "name": "ipython",
    "version": 3
   },
   "file_extension": ".py",
   "mimetype": "text/x-python",
   "name": "python",
   "nbconvert_exporter": "python",
   "pygments_lexer": "ipython3",
   "version": "3.6.3"
  }
 },
 "nbformat": 4,
 "nbformat_minor": 2
}
