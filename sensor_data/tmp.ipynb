{
 "cells": [
  {
   "cell_type": "code",
   "execution_count": 1,
   "metadata": {},
   "outputs": [],
   "source": [
    "%matplotlib inline\n",
    "import matplotlib.pyplot as plt\n",
    "import numpy as np"
   ]
  },
  {
   "cell_type": "code",
   "execution_count": 2,
   "metadata": {
    "scrolled": false
   },
   "outputs": [
    {
     "name": "stdout",
     "output_type": "stream",
     "text": [
      "[['1516152354.446454102', '116', '0.28200000524520874'], ['1516152357.667763285', '133', '0.27799999713897705'], ['1516152360.428825744', '130', '0.2849999964237213']]\n"
     ]
    }
   ],
   "source": [
    "with open(\"sensor_data_280.txt\",\"r\") as f:\n",
    "    data = [line.split() for line in f ]\n",
    "\n",
    "print(data[:3])"
   ]
  },
  {
   "cell_type": "code",
   "execution_count": 3,
   "metadata": {},
   "outputs": [
    {
     "name": "stdout",
     "output_type": "stream",
     "text": [
      "[282, 278, 285, 281, 284, 281, 286, 284, 282, 288, 287, 285, 279, 284, 280, 283, 278, 282, 281, 282, 280, 281, 280, 282, 285, 282, 285, 282, 281, 284, 281, 283, 280, 279, 279, 283, 279, 282, 285, 284, 282, 284, 285, 285, 281, 281, 282, 291, 286, 279, 279, 284, 280, 281, 278, 282, 283, 282, 279, 281, 283, 276, 277, 280, 283, 278, 287, 283, 282, 281, 283, 282, 283, 281, 276, 282, 285, 277, 283, 282, 284, 283, 280, 281, 277, 279, 281, 283, 280, 282, 279, 280, 278, 279, 283, 281, 281, 285, 285, 278]\n"
     ]
    }
   ],
   "source": [
    "urg = [round(float(d[2])*1000) for d in data]\n",
    "print(urg[0:100])"
   ]
  },
  {
   "cell_type": "code",
   "execution_count": 4,
   "metadata": {},
   "outputs": [
    {
     "data": {
      "text/plain": [
       "(array([  3.00000000e+00,   1.00000000e+00,   1.10000000e+01,\n",
       "          2.60000000e+01,   6.90000000e+01,   1.64000000e+02,\n",
       "          3.29000000e+02,   6.04000000e+02,   9.12000000e+02,\n",
       "          1.29100000e+03,   1.72300000e+03,   2.09700000e+03,\n",
       "          2.40200000e+03,   2.64200000e+03,   2.92000000e+03,\n",
       "          3.04800000e+03,   3.15800000e+03,   3.36200000e+03,\n",
       "          3.40700000e+03,   3.25900000e+03,   3.25400000e+03,\n",
       "          3.22900000e+03,   3.10900000e+03,   2.90900000e+03,\n",
       "          2.75400000e+03,   0.00000000e+00,   2.37200000e+03,\n",
       "          2.00200000e+03,   1.39900000e+03,   9.80000000e+02,\n",
       "          5.79000000e+02,   3.53000000e+02,   1.80000000e+02,\n",
       "          8.40000000e+01,   2.10000000e+01,   1.00000000e+01,\n",
       "          6.00000000e+00]),\n",
       " array([ 265.,  266.,  267.,  268.,  269.,  270.,  271.,  272.,  273.,\n",
       "         274.,  275.,  276.,  277.,  278.,  279.,  280.,  281.,  282.,\n",
       "         283.,  284.,  285.,  286.,  287.,  288.,  289.,  290.,  291.,\n",
       "         292.,  293.,  294.,  295.,  296.,  297.,  298.,  299.,  300.,\n",
       "         301.,  302.]),\n",
       " <a list of 37 Patch objects>)"
      ]
     },
     "execution_count": 4,
     "metadata": {},
     "output_type": "execute_result"
    },
    {
     "data": {
      "image/png": "[encoded data removed]",
      "text/plain": [
       "<matplotlib.figure.Figure at 0x7f13c8f964a8>"
      ]
     },
     "metadata": {},
     "output_type": "display_data"
    }
   ],
   "source": [
    "plt.hist(urg, bins=max(urg)-min(urg))"
   ]
  },
  {
   "cell_type": "code",
   "execution_count": 5,
   "metadata": {},
   "outputs": [
    {
     "data": {
      "text/plain": [
       "(array([    5.,    29.,   163.,   318.,   487.,   729.,  1336.,  1956.,\n",
       "         2269.,  2202.,  2167.,  2092.,  2364.,  2457.,  2424.,  2348.,\n",
       "         2244.,  2185.,  2186.,  2148.,  2167.,  2315.,  2337.,  2323.,\n",
       "         2303.,  2003.,  1820.,  1576.,  1277.,  1057.,   888.,   652.,\n",
       "          552.,   390.,   305.,   211.,   139.,    97.,    74.,    37.,\n",
       "           25.,    12.]),\n",
       " array([ 107.,  108.,  109.,  110.,  111.,  112.,  113.,  114.,  115.,\n",
       "         116.,  117.,  118.,  119.,  120.,  121.,  122.,  123.,  124.,\n",
       "         125.,  126.,  127.,  128.,  129.,  130.,  131.,  132.,  133.,\n",
       "         134.,  135.,  136.,  137.,  138.,  139.,  140.,  141.,  142.,\n",
       "         143.,  144.,  145.,  146.,  147.,  148.,  149.]),\n",
       " <a list of 42 Patch objects>)"
      ]
     },
     "execution_count": 5,
     "metadata": {},
     "output_type": "execute_result"
    },
    {
     "data": {
      "image/png": "[encoded data removed]",
      "text/plain": [
       "<matplotlib.figure.Figure at 0x7f1394cc6d68>"
      ]
     },
     "metadata": {},
     "output_type": "display_data"
    }
   ],
   "source": [
    "light = [int(d[1]) for d in data]\n",
    "plt.hist(light, bins=max(light)-min(light))"
   ]
  },
  {
   "cell_type": "code",
   "execution_count": 6,
   "metadata": {},
   "outputs": [
    {
     "name": "stdout",
     "output_type": "stream",
     "text": [
      "[116, 133, 130, 127, 130, 123, 117, 118, 135, 132, 122, 126, 123, 130, 133, 133, 110, 127, 121, 115, 134, 125, 134, 133, 139, 121, 114, 121, 121, 147, 121, 143, 112, 138, 131, 125, 128, 138, 131, 134, 133, 122, 139, 130, 122, 131, 126, 122, 134, 137, 136, 117, 113, 137, 133, 123, 117, 114, 119, 123, 130, 115, 123, 131, 123, 126, 137, 133, 118, 114, 129, 147, 118, 139, 115, 132, 118, 119, 125, 125, 126, 123, 132, 124, 131, 120, 120, 130, 135, 116, 132, 115, 129, 121, 132, 137, 124, 134, 136, 127]\n"
     ]
    }
   ],
   "source": [
    "print(light[0:100])"
   ]
  },
  {
   "cell_type": "code",
   "execution_count": 7,
   "metadata": {},
   "outputs": [
    {
     "data": {
      "text/plain": [
       "54669"
      ]
     },
     "execution_count": 7,
     "metadata": {},
     "output_type": "execute_result"
    }
   ],
   "source": [
    "len(data)"
   ]
  },
  {
   "cell_type": "code",
   "execution_count": 8,
   "metadata": {},
   "outputs": [
    {
     "name": "stdout",
     "output_type": "stream",
     "text": [
      "[['1516333195.634166428', '69', '0.4169999957084656'], ['1516333198.338606994', '58', '0.4189999997615814'], ['1516333201.656870764', '69', '0.41499999165534973']]\n"
     ]
    }
   ],
   "source": [
    "with open(\"sensor_data_400.txt\",\"r\") as f:\n",
    "    data = [line.split() for line in f ]\n",
    "\n",
    "print(data[:3])"
   ]
  },
  {
   "cell_type": "code",
   "execution_count": 9,
   "metadata": {},
   "outputs": [
    {
     "name": "stdout",
     "output_type": "stream",
     "text": [
      "[417, 419, 415, 420, 415, 415, 417, 417, 417, 419, 417, 418, 415, 419, 419, 414, 418, 414, 412, 417, 417, 415, 417, 418, 416, 416, 419, 412, 417, 416, 415, 416, 416, 412, 421, 418, 420, 412, 412, 415, 411, 414, 418, 408, 410, 415, 414, 415, 410, 418, 414, 410, 415, 407, 414, 414, 412, 410, 407, 409, 414, 414, 414, 415, 416, 416, 414, 414, 416, 407, 412, 412, 416, 410, 409, 415, 414, 415, 410, 414, 417, 409, 414, 415, 416, 411, 415, 414, 411, 418, 412, 418, 411, 412, 409, 411, 411, 411, 411, 411]\n"
     ]
    }
   ],
   "source": [
    "urg = [round(float(d[2])*1000) for d in data]\n",
    "print(urg[0:100])"
   ]
  },
  {
   "cell_type": "code",
   "execution_count": 10,
   "metadata": {},
   "outputs": [
    {
     "data": {
      "text/plain": [
       "(array([   1.,    1.,    6.,   11.,   18.,   66.,  117.,  220.,  304.,\n",
       "           0.,  442.,  545.,  534.,  603.,  617.,  511.,  415.,  309.,\n",
       "         228.,  147.,   95.,   79.,   39.,   37.,   29.,    0.,   27.,\n",
       "          22.,   11.,   10.,    8.,    6.,    3.]),\n",
       " array([ 388.,  389.,  390.,  391.,  392.,  393.,  394.,  395.,  396.,\n",
       "         397.,  398.,  399.,  400.,  401.,  402.,  403.,  404.,  405.,\n",
       "         406.,  407.,  408.,  409.,  410.,  411.,  412.,  413.,  414.,\n",
       "         415.,  416.,  417.,  418.,  419.,  420.,  421.]),\n",
       " <a list of 33 Patch objects>)"
      ]
     },
     "execution_count": 10,
     "metadata": {},
     "output_type": "execute_result"
    },
    {
     "data": {
      "image/png": "[encoded data removed]",
      "text/plain": [
       "<matplotlib.figure.Figure at 0x7f1394b04cc0>"
      ]
     },
     "metadata": {},
     "output_type": "display_data"
    }
   ],
   "source": [
    "plt.hist(urg, bins=max(urg)-min(urg))"
   ]
  },
  {
   "cell_type": "code",
   "execution_count": 11,
   "metadata": {},
   "outputs": [
    {
     "data": {
      "text/plain": [
       "(array([   1.,    1.,    5.,   14.,   20.,   23.,   26.,   46.,   59.,\n",
       "          82.,   93.,  130.,  141.,  170.,  206.,  216.,  214.,  246.,\n",
       "         248.,  249.,  275.,  264.,  284.,  245.,  274.,  261.,  251.,\n",
       "         210.,  172.,  184.,  162.,  144.,  121.,  106.,   71.,   69.,\n",
       "          57.,   52.,   24.,   17.,   12.,   11.,    5.]),\n",
       " array([ 37.,  38.,  39.,  40.,  41.,  42.,  43.,  44.,  45.,  46.,  47.,\n",
       "         48.,  49.,  50.,  51.,  52.,  53.,  54.,  55.,  56.,  57.,  58.,\n",
       "         59.,  60.,  61.,  62.,  63.,  64.,  65.,  66.,  67.,  68.,  69.,\n",
       "         70.,  71.,  72.,  73.,  74.,  75.,  76.,  77.,  78.,  79.,  80.]),\n",
       " <a list of 43 Patch objects>)"
      ]
     },
     "execution_count": 11,
     "metadata": {},
     "output_type": "execute_result"
    },
    {
     "data": {
      "image/png": "[encoded data removed]",
      "text/plain": [
       "<matplotlib.figure.Figure at 0x7f1397a7a390>"
      ]
     },
     "metadata": {},
     "output_type": "display_data"
    }
   ],
   "source": [
    "light = [int(d[1]) for d in data]\n",
    "plt.hist(light, bins=max(light)-min(light))"
   ]
  },
  {
   "cell_type": "code",
   "execution_count": null,
   "metadata": {},
   "outputs": [],
   "source": []
  }
 ],
 "metadata": {
  "kernelspec": {
   "display_name": "Python 3",
   "language": "python",
   "name": "python3"
  },
  "language_info": {
   "codemirror_mode": {
    "name": "ipython",
    "version": 3
   },
   "file_extension": ".py",
   "mimetype": "text/x-python",
   "name": "python",
   "nbconvert_exporter": "python",
   "pygments_lexer": "ipython3",
   "version": "3.5.2"
  }
 },
 "nbformat": 4,
 "nbformat_minor": 2
}
