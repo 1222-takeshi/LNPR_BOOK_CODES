{
 "cells": [
  {
   "cell_type": "code",
   "execution_count": 1,
   "metadata": {},
   "outputs": [],
   "source": [
    "%matplotlib inline\n",
    "import matplotlib.pyplot as plt\n",
    "import numpy as np"
   ]
  },
  {
   "cell_type": "code",
   "execution_count": 2,
   "metadata": {
    "scrolled": false
   },
   "outputs": [
    {
     "name": "stdout",
     "output_type": "stream",
     "text": [
      "[['20180202', '110001', '28', '627'], ['20180202', '110004', '17', '626'], ['20180202', '110007', '14', '627']]\n"
     ]
    }
   ],
   "source": [
    "data = [line.split() for line in open(\"sensor_data_600.txt\",\"r\") ]\n",
    "print(data[:3])"
   ]
  },
  {
   "cell_type": "code",
   "execution_count": 3,
   "metadata": {},
   "outputs": [
    {
     "name": "stdout",
     "output_type": "stream",
     "text": [
      "[627, 626, 627, 622, 630, 626, 624, 629, 628, 621, 624, 618, 623, 621, 621, 624, 627, 629, 625, 627, 626, 628, 622, 625, 623, 625, 619, 628, 623, 620, 624, 623, 623, 622, 626, 620, 628, 622, 621, 622, 620, 627, 623, 625, 621, 628, 625, 618, 622, 622, 626, 625, 621, 623, 619, 626, 621, 622, 625, 626, 626, 626, 626, 622, 623, 624, 627, 624, 624, 624, 626, 626, 628, 625, 628, 625, 619, 623, 620, 622, 623, 622, 620, 621, 626, 624, 622, 623, 622, 622, 625, 627, 627, 616, 623, 624, 624, 624, 627, 626]\n"
     ]
    }
   ],
   "source": [
    "urg = [int(d[3]) for d in data]\n",
    "print(urg[0:100])"
   ]
  },
  {
   "cell_type": "code",
   "execution_count": 4,
   "metadata": {
    "scrolled": false
   },
   "outputs": [
    {
     "data": {
      "text/plain": [
       "(array([  1.00000000e+00,   4.00000000e+00,   5.00000000e+00,\n",
       "          2.70000000e+01,   5.60000000e+01,   1.30000000e+02,\n",
       "          3.49000000e+02,   0.00000000e+00,   6.38000000e+02,\n",
       "          1.14000000e+03,   1.81500000e+03,   2.60300000e+03,\n",
       "          3.33300000e+03,   3.83400000e+03,   4.19300000e+03,\n",
       "          4.27800000e+03,   4.05900000e+03,   3.81500000e+03,\n",
       "          3.43400000e+03,   3.51000000e+03,   3.59200000e+03,\n",
       "          4.19700000e+03,   4.94800000e+03,   5.51000000e+03,\n",
       "          5.76500000e+03,   5.50600000e+03,   4.90700000e+03,\n",
       "          3.93200000e+03,   0.00000000e+00,   2.91100000e+03,\n",
       "          1.83200000e+03,   1.05500000e+03,   5.49000000e+02,\n",
       "          2.46000000e+02,   8.20000000e+01,   3.30000000e+01,\n",
       "          9.00000000e+00,   3.00000000e+00]),\n",
       " array([ 607.,  608.,  609.,  610.,  611.,  612.,  613.,  614.,  615.,\n",
       "         616.,  617.,  618.,  619.,  620.,  621.,  622.,  623.,  624.,\n",
       "         625.,  626.,  627.,  628.,  629.,  630.,  631.,  632.,  633.,\n",
       "         634.,  635.,  636.,  637.,  638.,  639.,  640.,  641.,  642.,\n",
       "         643.,  644.,  645.]),\n",
       " <a list of 38 Patch objects>)"
      ]
     },
     "execution_count": 4,
     "metadata": {},
     "output_type": "execute_result"
    },
    {
     "data": {
      "image/png": "[encoded data removed]",
      "text/plain": [
       "<matplotlib.figure.Figure at 0x10389de80>"
      ]
     },
     "metadata": {},
     "output_type": "display_data"
    }
   ],
   "source": [
    "plt.hist(urg, bins=max(urg)-min(urg))"
   ]
  },
  {
   "cell_type": "code",
   "execution_count": 5,
   "metadata": {},
   "outputs": [
    {
     "data": {
      "text/plain": [
       "(array([  2.00000000e+00,   6.00000000e+00,   3.90000000e+01,\n",
       "          3.30000000e+01,   7.10000000e+01,   7.50000000e+01,\n",
       "          9.70000000e+01,   1.42000000e+02,   2.16000000e+02,\n",
       "          2.55000000e+02,   3.26000000e+02,   3.75000000e+02,\n",
       "          5.00000000e+02,   8.35000000e+02,   1.11900000e+03,\n",
       "          1.51000000e+03,   2.25300000e+03,   3.24300000e+03,\n",
       "          3.66100000e+03,   5.14800000e+03,   5.29400000e+03,\n",
       "          6.38300000e+03,   7.62700000e+03,   7.97600000e+03,\n",
       "          8.15100000e+03,   7.06400000e+03,   3.59200000e+03,\n",
       "          2.60200000e+03,   2.26300000e+03,   1.99500000e+03,\n",
       "          1.68800000e+03,   1.40800000e+03,   1.12600000e+03,\n",
       "          9.90000000e+02,   7.99000000e+02,   6.88000000e+02,\n",
       "          5.77000000e+02,   4.83000000e+02,   4.16000000e+02,\n",
       "          3.18000000e+02,   2.57000000e+02,   2.23000000e+02,\n",
       "          1.66000000e+02,   1.22000000e+02,   7.20000000e+01,\n",
       "          5.70000000e+01,   3.60000000e+01,   2.20000000e+01]),\n",
       " array([  0.,   1.,   2.,   3.,   4.,   5.,   6.,   7.,   8.,   9.,  10.,\n",
       "         11.,  12.,  13.,  14.,  15.,  16.,  17.,  18.,  19.,  20.,  21.,\n",
       "         22.,  23.,  24.,  25.,  26.,  27.,  28.,  29.,  30.,  31.,  32.,\n",
       "         33.,  34.,  35.,  36.,  37.,  38.,  39.,  40.,  41.,  42.,  43.,\n",
       "         44.,  45.,  46.,  47.,  48.]),\n",
       " <a list of 48 Patch objects>)"
      ]
     },
     "execution_count": 5,
     "metadata": {},
     "output_type": "execute_result"
    },
    {
     "data": {
      "image/png": "[encoded data removed]",
      "text/plain": [
       "<matplotlib.figure.Figure at 0x10754d588>"
      ]
     },
     "metadata": {},
     "output_type": "display_data"
    }
   ],
   "source": [
    "light = [int(d[2]) for d in data]\n",
    "plt.hist(light, bins=max(light)-min(light))"
   ]
  },
  {
   "cell_type": "code",
   "execution_count": 6,
   "metadata": {},
   "outputs": [
    {
     "name": "stdout",
     "output_type": "stream",
     "text": [
      "[28, 17, 14, 31, 24, 20, 18, 27, 20, 32, 21, 10, 13, 7, 36, 38, 22, 23, 24, 30, 18, 23, 14, 32, 24, 30, 20, 31, 10, 28, 6, 40, 5, 11, 11, 28, 17, 25, 33, 43, 36, 19, 14, 14, 45, 20, 16, 33, 32, 23, 24, 23, 22, 36, 18, 23, 35, 28, 28, 19, 33, 10, 39, 23, 39, 30, 20, 32, 45, 25, 26, 24, 40, 15, 23, 37, 10, 10, 23, 34, 25, 15, 35, 26, 29, 15, 18, 24, 30, 19, 31, 19, 16, 23, 23, 27, 13, 34, 17, 6]\n"
     ]
    }
   ],
   "source": [
    "print(light[0:100])"
   ]
  },
  {
   "cell_type": "code",
   "execution_count": 7,
   "metadata": {},
   "outputs": [
    {
     "data": {
      "text/plain": [
       "82301"
      ]
     },
     "execution_count": 7,
     "metadata": {},
     "output_type": "execute_result"
    }
   ],
   "source": [
    "len(data)"
   ]
  },
  {
   "cell_type": "code",
   "execution_count": 11,
   "metadata": {},
   "outputs": [
    {
     "data": {
      "image/png": "[encoded data removed]",
      "text/plain": [
       "<matplotlib.figure.Figure at 0x107c20b00>"
      ]
     },
     "metadata": {},
     "output_type": "display_data"
    }
   ],
   "source": [
    "\n",
    "\n",
    "urg = [int(d[3]) for d in data]\n",
    "for i in range(8):\n",
    "    d = urg[i*10000:(i+1)*10000]\n",
    "    plt.hist(d, bins=max(d)-min(d))"
   ]
  },
  {
   "cell_type": "code",
   "execution_count": 14,
   "metadata": {},
   "outputs": [
    {
     "name": "stdout",
     "output_type": "stream",
     "text": [
      "[['20180202', '110001', '28', '627'], ['20180202', '110004', '17', '626'], ['20180202', '110007', '14', '627'], ['20180202', '110010', '31', '622'], ['20180202', '110013', '24', '630'], ['20180202', '110016', '20', '626'], ['20180202', '110019', '18', '624'], ['20180202', '110022', '27', '629'], ['20180202', '110025', '20', '628'], ['20180202', '110028', '32', '621']]\n"
     ]
    }
   ],
   "source": [
    "print(data[:10])"
   ]
  },
  {
   "cell_type": "code",
   "execution_count": 116,
   "metadata": {},
   "outputs": [],
   "source": [
    "noon = list(int(e[3]) for e in data if \"000000\" <= e[1] < \"060000\")\n",
    "midnight = list(int(e[3]) for e in data if \"120000\" <= e[1] < \"180000\")"
   ]
  },
  {
   "cell_type": "code",
   "execution_count": 117,
   "metadata": {},
   "outputs": [
    {
     "data": {
      "text/plain": [
       "(array([  1.00000000e+00,   2.00000000e+00,   3.00000000e+00,\n",
       "          1.40000000e+01,   3.10000000e+01,   7.80000000e+01,\n",
       "          2.11000000e+02,   0.00000000e+00,   3.52000000e+02,\n",
       "          6.20000000e+02,   1.01900000e+03,   1.40200000e+03,\n",
       "          1.72800000e+03,   1.97400000e+03,   2.08000000e+03,\n",
       "          2.15400000e+03,   1.99800000e+03,   1.70400000e+03,\n",
       "          1.44200000e+03,   1.16100000e+03,   9.45000000e+02,\n",
       "          7.33000000e+02,   6.15000000e+02,   4.33000000e+02,\n",
       "          2.81000000e+02,   1.66000000e+02,   8.90000000e+01,\n",
       "          2.60000000e+01,   0.00000000e+00,   2.10000000e+01,\n",
       "          5.00000000e+00]),\n",
       " array([ 607.,  608.,  609.,  610.,  611.,  612.,  613.,  614.,  615.,\n",
       "         616.,  617.,  618.,  619.,  620.,  621.,  622.,  623.,  624.,\n",
       "         625.,  626.,  627.,  628.,  629.,  630.,  631.,  632.,  633.,\n",
       "         634.,  635.,  636.,  637.,  638.]),\n",
       " <a list of 31 Patch objects>)"
      ]
     },
     "execution_count": 117,
     "metadata": {},
     "output_type": "execute_result"
    },
    {
     "data": {
      "image/png": "[encoded data removed]",
      "text/plain": [
       "<matplotlib.figure.Figure at 0x10ac5a160>"
      ]
     },
     "metadata": {},
     "output_type": "display_data"
    }
   ],
   "source": [
    "plt.hist(noon, bins=max(noon)-min(noon))\n",
    "plt.hist(midnight, bins=max(midnight)-min(midnight))"
   ]
  },
  {
   "cell_type": "code",
   "execution_count": 96,
   "metadata": {},
   "outputs": [
    {
     "data": {
      "text/plain": [
       "(array([  1.00000000e+00,   2.00000000e+00,   3.00000000e+00,\n",
       "          1.50000000e+01,   3.20000000e+01,   8.50000000e+01,\n",
       "          2.27000000e+02,   0.00000000e+00,   3.97000000e+02,\n",
       "          7.36000000e+02,   1.20600000e+03,   1.70100000e+03,\n",
       "          2.15200000e+03,   2.48600000e+03,   2.65800000e+03,\n",
       "          2.80000000e+03,   2.60800000e+03,   2.31900000e+03,\n",
       "          1.90900000e+03,   1.63100000e+03,   1.39300000e+03,\n",
       "          1.13300000e+03,   9.90000000e+02,   7.46000000e+02,\n",
       "          4.97000000e+02,   3.19000000e+02,   1.86000000e+02,\n",
       "          7.80000000e+01,   0.00000000e+00,   4.60000000e+01,\n",
       "          1.40000000e+01,   8.00000000e+00]),\n",
       " array([ 607.,  608.,  609.,  610.,  611.,  612.,  613.,  614.,  615.,\n",
       "         616.,  617.,  618.,  619.,  620.,  621.,  622.,  623.,  624.,\n",
       "         625.,  626.,  627.,  628.,  629.,  630.,  631.,  632.,  633.,\n",
       "         634.,  635.,  636.,  637.,  638.,  639.]),\n",
       " <a list of 32 Patch objects>)"
      ]
     },
     "execution_count": 96,
     "metadata": {},
     "output_type": "execute_result"
    },
    {
     "data": {
      "image/png": "[encoded data removed]",
      "text/plain": [
       "<matplotlib.figure.Figure at 0x10813f8d0>"
      ]
     },
     "metadata": {},
     "output_type": "display_data"
    }
   ],
   "source": []
  },
  {
   "cell_type": "code",
   "execution_count": null,
   "metadata": {},
   "outputs": [],
   "source": []
  }
 ],
 "metadata": {
  "kernelspec": {
   "display_name": "Python 3",
   "language": "python",
   "name": "python3"
  },
  "language_info": {
   "codemirror_mode": {
    "name": "ipython",
    "version": 3
   },
   "file_extension": ".py",
   "mimetype": "text/x-python",
   "name": "python",
   "nbconvert_exporter": "python",
   "pygments_lexer": "ipython3",
   "version": "3.6.3"
  }
 },
 "nbformat": 4,
 "nbformat_minor": 2
}
