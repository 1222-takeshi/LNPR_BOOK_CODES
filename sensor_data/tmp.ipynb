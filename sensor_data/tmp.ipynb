{
 "cells": [
  {
   "cell_type": "code",
   "execution_count": 1,
   "metadata": {
    "collapsed": true
   },
   "outputs": [],
   "source": [
    "%matplotlib inline\n",
    "import matplotlib.pyplot as plt\n",
    "import numpy as np"
   ]
  },
  {
   "cell_type": "code",
   "execution_count": 17,
   "metadata": {
    "collapsed": false,
    "scrolled": false
   },
   "outputs": [
    {
     "name": "stdout",
     "output_type": "stream",
     "text": [
      "[['20180124', '185819', '37', '525'], ['20180124', '185822', '32', '518'], ['20180124', '185826', '43', '524']]\n"
     ]
    }
   ],
   "source": [
    "data = [line.split() for line in open(\"sensor_data_500.txt\",\"r\") ]\n",
    "\n",
    "print(data[:3])"
   ]
  },
  {
   "cell_type": "code",
   "execution_count": 18,
   "metadata": {
    "collapsed": false
   },
   "outputs": [
    {
     "name": "stdout",
     "output_type": "stream",
     "text": [
      "[525, 518, 524, 520, 520, 520, 520, 527, 522, 522, 521, 522, 522, 520, 521, 519, 521, 522, 518, 522, 518, 520, 520, 519, 526, 521, 525, 525, 524, 514, 522, 524, 519, 521, 521, 526, 517, 520, 526, 526, 519, 520, 519, 524, 521, 522, 521, 518, 522, 520, 518, 520, 517, 520, 518, 517, 521, 517, 516, 517, 520, 521, 520, 520, 525, 527, 520, 521, 519, 524, 519, 520, 519, 520, 518, 524, 522, 521, 522, 519, 521, 519, 520, 521, 518, 520, 526, 520, 526, 517, 515, 521, 522, 517, 517, 525, 528, 520, 519, 522]\n"
     ]
    }
   ],
   "source": [
    "urg = [int(d[3]) for d in data]\n",
    "print(urg[0:100])"
   ]
  },
  {
   "cell_type": "code",
   "execution_count": 19,
   "metadata": {
    "collapsed": false,
    "scrolled": true
   },
   "outputs": [
    {
     "data": {
      "text/plain": [
       "(array([2.000e+00, 2.000e+00, 2.500e+01, 6.000e+01, 1.330e+02, 2.670e+02,\n",
       "        5.750e+02, 0.000e+00, 1.013e+03, 1.650e+03, 2.434e+03, 3.118e+03,\n",
       "        3.793e+03, 4.332e+03, 4.586e+03, 4.589e+03, 4.561e+03, 4.303e+03,\n",
       "        3.954e+03, 3.630e+03, 3.451e+03, 2.952e+03, 2.740e+03, 2.364e+03,\n",
       "        0.000e+00, 2.143e+03, 1.887e+03, 1.891e+03, 2.054e+03, 2.460e+03,\n",
       "        3.149e+03, 4.262e+03, 5.424e+03, 6.170e+03, 6.793e+03, 6.794e+03,\n",
       "        6.034e+03, 4.926e+03, 3.507e+03, 2.264e+03, 0.000e+00, 1.287e+03,\n",
       "        6.500e+02, 2.720e+02, 1.020e+02, 3.700e+01, 1.700e+01, 4.000e+00]),\n",
       " array([499., 500., 501., 502., 503., 504., 505., 506., 507., 508., 509.,\n",
       "        510., 511., 512., 513., 514., 515., 516., 517., 518., 519., 520.,\n",
       "        521., 522., 523., 524., 525., 526., 527., 528., 529., 530., 531.,\n",
       "        532., 533., 534., 535., 536., 537., 538., 539., 540., 541., 542.,\n",
       "        543., 544., 545., 546., 547.]),\n",
       " <a list of 48 Patch objects>)"
      ]
     },
     "execution_count": 19,
     "metadata": {},
     "output_type": "execute_result"
    },
    {
     "data": {
      "image/png": "[encoded data removed]",
      "text/plain": [
       "<matplotlib.figure.Figure at 0x7f41e1d08d30>"
      ]
     },
     "metadata": {},
     "output_type": "display_data"
    }
   ],
   "source": [
    "plt.hist(urg, bins=max(urg)-min(urg))"
   ]
  },
  {
   "cell_type": "code",
   "execution_count": 20,
   "metadata": {
    "collapsed": false
   },
   "outputs": [
    {
     "data": {
      "text/plain": [
       "(array([3.0000e+00, 8.0000e+00, 2.1000e+01, 1.7000e+01, 3.0000e+01,\n",
       "        3.5000e+01, 6.1000e+01, 7.4000e+01, 1.2000e+02, 2.1300e+02,\n",
       "        3.1400e+02, 6.3900e+02, 9.2000e+02, 1.2940e+03, 1.9110e+03,\n",
       "        3.4530e+03, 3.6950e+03, 4.3430e+03, 5.8630e+03, 6.7900e+03,\n",
       "        7.0170e+03, 7.9710e+03, 1.0589e+04, 9.4470e+03, 7.8880e+03,\n",
       "        8.3340e+03, 6.7130e+03, 5.7820e+03, 4.7840e+03, 4.1450e+03,\n",
       "        3.4980e+03, 2.5990e+03, 2.1610e+03, 1.6790e+03, 1.1850e+03,\n",
       "        9.2700e+02, 6.6600e+02, 4.8900e+02, 3.2800e+02, 2.3100e+02,\n",
       "        1.8000e+02, 1.0600e+02, 7.0000e+01, 2.9000e+01, 2.4000e+01,\n",
       "        9.0000e+00, 5.0000e+00, 1.0000e+00]),\n",
       " array([12., 13., 14., 15., 16., 17., 18., 19., 20., 21., 22., 23., 24.,\n",
       "        25., 26., 27., 28., 29., 30., 31., 32., 33., 34., 35., 36., 37.,\n",
       "        38., 39., 40., 41., 42., 43., 44., 45., 46., 47., 48., 49., 50.,\n",
       "        51., 52., 53., 54., 55., 56., 57., 58., 59., 60.]),\n",
       " <a list of 48 Patch objects>)"
      ]
     },
     "execution_count": 20,
     "metadata": {},
     "output_type": "execute_result"
    },
    {
     "data": {
      "image/png": "[encoded data removed]",
      "text/plain": [
       "<matplotlib.figure.Figure at 0x7f41dd8fb860>"
      ]
     },
     "metadata": {},
     "output_type": "display_data"
    }
   ],
   "source": [
    "light = [int(d[2]) for d in data]\n",
    "plt.hist(light, bins=max(light)-min(light))"
   ]
  },
  {
   "cell_type": "code",
   "execution_count": 6,
   "metadata": {
    "collapsed": false
   },
   "outputs": [
    {
     "name": "stdout",
     "output_type": "stream",
     "text": [
      "[37, 32, 43, 39, 34, 39, 39, 37, 29, 34, 37, 39, 34, 33, 37, 34, 32, 35, 32, 36, 37, 35, 35, 38, 33, 34, 36, 33, 36, 30, 32, 25, 32, 38, 35, 34, 37, 37, 34, 36, 37, 35, 37, 38, 34, 35, 34, 36, 27, 30, 31, 38, 32, 31, 35, 32, 35, 38, 36, 33, 32, 36, 35, 35, 33, 28, 34, 35, 36, 34, 35, 39, 35, 35, 35, 38, 30, 27, 35, 34, 38, 35, 37, 36, 30, 29, 37, 38, 31, 33, 35, 32, 34, 30, 29, 35, 34, 34, 33, 28]\n"
     ]
    }
   ],
   "source": [
    "print(light[0:100])"
   ]
  },
  {
   "cell_type": "code",
   "execution_count": 7,
   "metadata": {
    "collapsed": false
   },
   "outputs": [
    {
     "data": {
      "text/plain": [
       "116661"
      ]
     },
     "execution_count": 7,
     "metadata": {},
     "output_type": "execute_result"
    }
   ],
   "source": [
    "len(data)"
   ]
  },
  {
   "cell_type": "code",
   "execution_count": null,
   "metadata": {
    "collapsed": true
   },
   "outputs": [],
   "source": []
  }
 ],
 "metadata": {
  "kernelspec": {
   "display_name": "Python 3",
   "language": "python",
   "name": "python3"
  },
  "language_info": {
   "codemirror_mode": {
    "name": "ipython",
    "version": 3
   },
   "file_extension": ".py",
   "mimetype": "text/x-python",
   "name": "python",
   "nbconvert_exporter": "python",
   "pygments_lexer": "ipython3",
   "version": "3.6.3"
  }
 },
 "nbformat": 4,
 "nbformat_minor": 2
}
