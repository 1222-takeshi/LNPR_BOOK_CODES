{
 "cells": [
  {
   "cell_type": "code",
   "execution_count": 1,
   "metadata": {},
   "outputs": [],
   "source": [
    "import sys\n",
    "sys.path.append('../scripts/')\n",
    "from mcl import *"
   ]
  },
  {
   "cell_type": "code",
   "execution_count": 2,
   "metadata": {},
   "outputs": [],
   "source": [
    "class ResetMcl(Mcl):\n",
    "    def __init__(self, envmap, init_pose, num, motion_noise_stds={\"nn\":0.19, \"no\":0.001, \"on\":0.13, \"oo\":0.2}, \\\n",
    "                 distance_dev_rate=0.14, direction_dev=0.05, alpha_threshold=0.001): #alpha_thresholdを追加\n",
    "        super().__init__(envmap, init_pose, num, motion_noise_stds, distance_dev_rate, direction_dev)\n",
    "        self.alpha_threshold = alpha_threshold\n",
    "        \n",
    "    def random_reset(self):\n",
    "         for p in self.particles:\n",
    "                p.pose = np.array([np.random.uniform(-5.0, 5.0), np.random.uniform(-5.0, 5.0), np.random.uniform(-math.pi, math.pi)]).T\n",
    "                p.weight = 1/len(self.particles)\n",
    "                \n",
    "    def sensor_resetting(self, observation): #追加\n",
    "        nearest_obs = np.argmin([obs[0][0] for obs in observation]) #距離が一番近いランドマークを選択\n",
    "        values, landmark_id = observation[nearest_obs]\n",
    "        ell_obs, phi_obs = values\n",
    "        \n",
    "        pos = self.map.landmarks[landmark_id].pos\n",
    "        for p in self.particles:        \n",
    "            ori = np.random.uniform(-np.pi, np.pi) #ランドマークからの方角を選ぶ\n",
    "            ell = norm(loc=ell_obs, scale=(ell_obs*self.distance_dev_rate)**2).rvs() #ランドマークからの距離を選ぶ\n",
    "            phi = norm(loc=phi_obs, scale=(self.direction_dev)**2).rvs() #ランドマークが見える向きを決める\n",
    "\n",
    "            ##幾何計算でロボットの姿勢を決める##\n",
    "            p.pose[0] = pos[0] + ell*math.cos(ori)\n",
    "            p.pose[1] = pos[1] + ell*math.sin(ori)\n",
    "            p.pose[2] = math.atan2(pos[1]-p.pose[1], pos[0]-p.pose[0]) - phi\n",
    "            p.weight = 1.0/len(self.particles)\n",
    "    \n",
    "    def resetting(self, observation): #引数を追加\n",
    "        self.sensor_resetting(observation) #sensor_resetの呼び出しに変更\n",
    "        \n",
    "    def observation_update(self, observation):        \n",
    "        for p in self.particles:\n",
    "            p.observation_update(observation, self.map, self.distance_dev_rate, self.direction_dev) \n",
    "            \n",
    "        self.set_ml()\n",
    "\n",
    "        if sum([p.weight for p in self.particles]) < self.alpha_threshold: \n",
    "            self.resetting(observation)  #引数追加\n",
    "        else:\n",
    "            self.resampling() "
   ]
  },
  {
   "cell_type": "code",
   "execution_count": 3,
   "metadata": {},
   "outputs": [],
   "source": [
    "def trial(animation): ###mclkidnap1test\n",
    "    time_interval = 0.1\n",
    "    world = World(30, time_interval, debug=not animation) \n",
    "\n",
    "    ## 地図を生成して3つランドマークを追加 ##\n",
    "    m = Map()\n",
    "    m.append_landmark(Landmark(-4,2))\n",
    "    m.append_landmark(Landmark(2,-3))\n",
    "    m.append_landmark(Landmark(3,3))\n",
    "    world.append(m)\n",
    "\n",
    "    ## ロボットを作る ##\n",
    "    init_pose = np.array([np.random.uniform(-5.0, 5.0), np.random.uniform(-5.0, 5.0), np.random.uniform(-math.pi, math.pi)]).T\n",
    "    robot_pose = np.array([np.random.uniform(-5.0, 5.0), np.random.uniform(-5.0, 5.0), np.random.uniform(-math.pi, math.pi)]).T\n",
    "    pf = ResetMcl(m, init_pose, 1000)\n",
    "    a = MclAgent(time_interval, 0.2, 10.0/180*math.pi, pf)\n",
    "    r = Robot(robot_pose, sensor=Camera(m), agent=a, color=\"red\")\n",
    "    world.append(r)\n",
    "\n",
    "    world.draw()\n",
    "    \n",
    "    return (r.pose, pf.ml.pose)"
   ]
  },
  {
   "cell_type": "code",
   "execution_count": null,
   "metadata": {},
   "outputs": [
    {
     "name": "stdout",
     "output_type": "stream",
     "text": [
      "0 真値: [ 3.15842552 -2.55949127  3.17729166] 推定値 [ 3.15863403 -2.52192023  3.05635216] 誤差: 0.03757162485857152\n"
     ]
    }
   ],
   "source": [
    "if __name__ == '__main__': ###mclglobal1exec\n",
    "    ok = 0\n",
    "    for i in range(1000):\n",
    "        actual, estm = trial(False)\n",
    "        diff = math.sqrt((actual[0]-estm[0])**2 + (actual[1]-estm[1])**2)\n",
    "        print(i, \"真値:\", actual, \"推定値\", estm, \"誤差:\", diff)\n",
    "        if diff <= 1.0:\n",
    "            ok += 1\n",
    "\n",
    "    ok"
   ]
  },
  {
   "cell_type": "code",
   "execution_count": null,
   "metadata": {},
   "outputs": [],
   "source": [
    "ok"
   ]
  },
  {
   "cell_type": "code",
   "execution_count": null,
   "metadata": {},
   "outputs": [],
   "source": []
  }
 ],
 "metadata": {
  "kernelspec": {
   "display_name": "Python 3",
   "language": "python",
   "name": "python3"
  },
  "language_info": {
   "codemirror_mode": {
    "name": "ipython",
    "version": 3
   },
   "file_extension": ".py",
   "mimetype": "text/x-python",
   "name": "python",
   "nbconvert_exporter": "python",
   "pygments_lexer": "ipython3",
   "version": "3.7.0"
  }
 },
 "nbformat": 4,
 "nbformat_minor": 2
}
