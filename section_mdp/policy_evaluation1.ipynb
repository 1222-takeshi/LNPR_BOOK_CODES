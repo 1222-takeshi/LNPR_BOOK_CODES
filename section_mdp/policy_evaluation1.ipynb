{
 "cells": [
  {
   "cell_type": "code",
   "execution_count": 1,
   "metadata": {},
   "outputs": [],
   "source": [
    "import sys  ###policyevaluation1\n",
    "sys.path.append('../scripts/')\n",
    "from puddle_world import *"
   ]
  },
  {
   "cell_type": "code",
   "execution_count": 2,
   "metadata": {},
   "outputs": [],
   "source": [
    "class PolicyEvaluator:\n",
    "    def __init__(self, widths, lowerleft=np.array([-4, -4]).T, upperright=np.array([4, 4]).T):\n",
    "        self.pose_min = np.r_[lowerleft, 0]\n",
    "        self.pose_max = np.r_[upperright, math.pi*2] #thetaの範囲0〜2πで固定\n",
    "        self.widths = widths\n",
    "        \n",
    "        self.index_nums = ((self.pose_max - self.pose_min)/self.widths).astype(int)\n",
    "        \n",
    "    def pose_to_index(self, pose):\n",
    "        while pose[2] < 0.0:            pose[2] += math.pi*2 #この2行は角度の正規化のため\n",
    "        while pose[2] >= math.pi*2: pose[2] -= math.pi*2\n",
    "        \n",
    "        indexes = np.floor((pose - self.pose_min)/self.widths).astype(int)\n",
    "        if not 0 <= indexes[0] < self.index_nums[0]: return None\n",
    "        if not 0 <= indexes[1] < self.index_nums[1]: return None\n",
    "        \n",
    "        return indexes"
   ]
  },
  {
   "cell_type": "code",
   "execution_count": 3,
   "metadata": {},
   "outputs": [
    {
     "name": "stdout",
     "output_type": "stream",
     "text": [
      "[40 40 36]\n"
     ]
    }
   ],
   "source": [
    "pe = PolicyEvaluator(np.array([0.2, 0.2, math.pi/18]).T) #PolicyEvaluatorのオブジェクトを生成\n",
    "print(pe.index_nums)  #区間の個数を表示"
   ]
  },
  {
   "cell_type": "code",
   "execution_count": 4,
   "metadata": {},
   "outputs": [
    {
     "name": "stdout",
     "output_type": "stream",
     "text": [
      "[0 0 0]\n",
      "[34 10 18]\n",
      "None\n"
     ]
    }
   ],
   "source": [
    "print(pe.pose_to_index(np.array([-4, -4, 0]).T))    #様々な座標のインデックスを求めてみましょう\n",
    "print(pe.pose_to_index(np.array([2.9, -2, math.pi]).T))\n",
    "print(pe.pose_to_index(np.array([-5, -2, math.pi/6]).T))"
   ]
  },
  {
   "cell_type": "code",
   "execution_count": null,
   "metadata": {},
   "outputs": [],
   "source": []
  }
 ],
 "metadata": {
  "kernelspec": {
   "display_name": "Python 3",
   "language": "python",
   "name": "python3"
  },
  "language_info": {
   "codemirror_mode": {
    "name": "ipython",
    "version": 3
   },
   "file_extension": ".py",
   "mimetype": "text/x-python",
   "name": "python",
   "nbconvert_exporter": "python",
   "pygments_lexer": "ipython3",
   "version": "3.6.3"
  }
 },
 "nbformat": 4,
 "nbformat_minor": 2
}
