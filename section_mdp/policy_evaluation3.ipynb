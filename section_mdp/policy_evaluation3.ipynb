{
 "cells": [
  {
   "cell_type": "code",
   "execution_count": 1,
   "metadata": {},
   "outputs": [],
   "source": [
    "import sys\n",
    "sys.path.append('../scripts/')\n",
    "from puddle_world import *\n",
    "import itertools "
   ]
  },
  {
   "cell_type": "code",
   "execution_count": 2,
   "metadata": {},
   "outputs": [],
   "source": [
    "class PolicyEvaluator:  ###PolicyEvaluator3\n",
    "    def __init__(self, widths, goal, lowerleft=np.array([-4, -4]).T, upperright=np.array([4, 4]).T):\n",
    "        self.pose_min = np.r_[lowerleft, 0]\n",
    "        self.pose_max = np.r_[upperright, math.pi*2]\n",
    "        self.widths = widths\n",
    "        self.goal = goal\n",
    "        \n",
    "        self.index_nums = ((self.pose_max - self.pose_min)/self.widths).astype(int)\n",
    "        nx, ny, nt = self.index_nums\n",
    "        self.indexes = list(itertools.product(range(nx), range(ny), range(nt)))\n",
    "        \n",
    "        self.value_function, self.final_state_flags =  self.init_value_function() \n",
    "        self.policy = self.init_policy() #追加\n",
    "        self.actions = set([tuple(self.policy[i]) for i in self.indexes]) #追加（リストをセットにすると重複除去できる）\n",
    "        \n",
    "    def init_policy(self): #追加\n",
    "        tmp = np.zeros(np.r_[self.index_nums,2]) #制御出力が2次元なので、配列の次元を4次元に\n",
    "        for index in self.indexes:\n",
    "            center = self.pose_min + self.widths*(np.array(index).T + 0.5)  #セルの中心の座標\n",
    "            tmp[index] = PuddleIgnoreAgent.policy(center, self.goal)\n",
    "            \n",
    "        return tmp\n",
    "        \n",
    "    def init_value_function(self): \n",
    "        v = np.empty(self.index_nums) #全離散状態を要素に持つ配列を作成\n",
    "        f = np.zeros(self.index_nums) \n",
    "        \n",
    "        for index in self.indexes:\n",
    "            f[index] = self.final_state(np.array(index).T)\n",
    "            v[index] = self.goal.value if f[index] else -100.0\n",
    "                \n",
    "        return v, f\n",
    "        \n",
    "    def final_state(self, index):\n",
    "        x_min, y_min, _ = self.pose_min + self.widths*index          #xy平面で左下の座標\n",
    "        x_max, y_max, _ = self.pose_min + self.widths*(index + 1) #右上の座標（斜め上の離散状態の左下の座標）\n",
    "        \n",
    "        corners = [[x_min, y_min, _], [x_min, y_max, _], [x_max, y_min, _], [x_max, y_max, _] ] #4隅の座標\n",
    "        return sum([self.goal.inside(np.array(c).T) for c in corners ]) == 4 #全部goal.insideがTrueならsumが4に"
   ]
  },
  {
   "cell_type": "code",
   "execution_count": 3,
   "metadata": {},
   "outputs": [],
   "source": [
    "pe = PolicyEvaluator(np.array([0.2, 0.2, math.pi/18]).T, Goal(-3,-3))  "
   ]
  },
  {
   "cell_type": "code",
   "execution_count": 4,
   "metadata": {},
   "outputs": [
    {
     "data": {
      "text/plain": [
       "array([[ 0. , -0.5],\n",
       "       [ 0. , -0.5],\n",
       "       [ 0. , -0.5],\n",
       "       [ 0. , -0.5],\n",
       "       [ 0. , -0.5],\n",
       "       [ 0. ,  0.5],\n",
       "       [ 0. ,  0.5],\n",
       "       [ 0. ,  0.5],\n",
       "       [ 0. ,  0.5],\n",
       "       [ 0. ,  0.5],\n",
       "       [ 0. ,  0.5],\n",
       "       [ 0. ,  0.5],\n",
       "       [ 0. ,  0.5],\n",
       "       [ 0. ,  0.5],\n",
       "       [ 0. ,  0.5],\n",
       "       [ 0. ,  0.5],\n",
       "       [ 0. ,  0.5],\n",
       "       [ 0. ,  0.5],\n",
       "       [ 0. ,  0.5],\n",
       "       [ 0. ,  0.5],\n",
       "       [ 0. ,  0.5],\n",
       "       [ 0.2,  0. ],\n",
       "       [ 0.2,  0. ],\n",
       "       [ 0.2,  0. ],\n",
       "       [ 0. , -0.5],\n",
       "       [ 0. , -0.5],\n",
       "       [ 0. , -0.5],\n",
       "       [ 0. , -0.5],\n",
       "       [ 0. , -0.5],\n",
       "       [ 0. , -0.5],\n",
       "       [ 0. , -0.5],\n",
       "       [ 0. , -0.5],\n",
       "       [ 0. , -0.5],\n",
       "       [ 0. , -0.5],\n",
       "       [ 0. , -0.5],\n",
       "       [ 0. , -0.5]])"
      ]
     },
     "execution_count": 4,
     "metadata": {},
     "output_type": "execute_result"
    }
   ],
   "source": [
    "pe.policy[10, 10, :] ###policycheck（適宜省略）"
   ]
  },
  {
   "cell_type": "code",
   "execution_count": 5,
   "metadata": {},
   "outputs": [
    {
     "data": {
      "text/plain": [
       "{(0.0, -0.5), (0.0, 0.5), (0.20000000000000001, 0.0)}"
      ]
     },
     "execution_count": 5,
     "metadata": {},
     "output_type": "execute_result"
    }
   ],
   "source": [
    "pe.actions ###actioncheck"
   ]
  },
  {
   "cell_type": "code",
   "execution_count": null,
   "metadata": {},
   "outputs": [],
   "source": []
  }
 ],
 "metadata": {
  "kernelspec": {
   "display_name": "Python 3",
   "language": "python",
   "name": "python3"
  },
  "language_info": {
   "codemirror_mode": {
    "name": "ipython",
    "version": 3
   },
   "file_extension": ".py",
   "mimetype": "text/x-python",
   "name": "python",
   "nbconvert_exporter": "python",
   "pygments_lexer": "ipython3",
   "version": "3.6.3"
  }
 },
 "nbformat": 4,
 "nbformat_minor": 2
}
