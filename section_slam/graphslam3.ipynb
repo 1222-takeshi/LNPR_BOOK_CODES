{
 "cells": [
  {
   "cell_type": "code",
   "execution_count": 1,
   "metadata": {},
   "outputs": [],
   "source": [
    "import sys \n",
    "sys.path.append('../scripts/')\n",
    "from kf import *   #誤差楕円を描くのに利用"
   ]
  },
  {
   "cell_type": "code",
   "execution_count": 2,
   "metadata": {},
   "outputs": [],
   "source": [
    "def draw(xs, ms, zlist): \n",
    "    ##世界の描画##\n",
    "    fig = plt.figure(figsize=(4,4))\n",
    "    ax = fig.add_subplot(111) \n",
    "    ax.set_aspect('equal')\n",
    "    ax.set_xlim(-5,5)\n",
    "    ax.set_ylim(-5,5) \n",
    "    ax.set_xlabel(\"X\",fontsize=10) \n",
    "    ax.set_ylabel(\"Y\",fontsize=10)  \n",
    "    \n",
    "    ##軌跡の描画##\n",
    "    poses = [xs[s] for s in range(len(xs))]\n",
    "    ax.scatter([e[0] for e in poses], [e[1] for e in poses], s=5, marker=\".\", color=\"black\")\n",
    "    ax.plot([e[0] for e in poses], [e[1] for e in poses], linewidth=0.5, color=\"black\")\n",
    "\n",
    "    ##センサ値の描画##\n",
    "    for t in range(len(xs)):\n",
    "        if t not in zlist: continue\n",
    "            \n",
    "        for obs in zlist[t]:\n",
    "            x, y, theta = xs[t]\n",
    "            ell, phi = obs[1]\n",
    "            mx = x + ell*math.cos(theta + phi)\n",
    "            my = y + ell*math.sin(theta + phi)\n",
    "            ax.plot([x,mx], [y,my], color=\"pink\", alpha=0.5)\n",
    "        \n",
    "    ##ランドマークの推定位置の描画## \n",
    "    ax.scatter([e[0] for e in ms], [e[1] for e in ms], s=10, marker=\"*\", color=\"blue\")\n",
    "    print(ms)\n",
    "    \n",
    "    \n",
    "    ##描画実行##\n",
    "    plt.show()"
   ]
  },
  {
   "cell_type": "code",
   "execution_count": 3,
   "metadata": {},
   "outputs": [],
   "source": [
    "###データの読み込み###\n",
    "delta = 0.0\n",
    "xs = {}     #軌跡のデータ（ステップ数をキーにして姿勢を保存）\n",
    "zlist = {} #センサ値のデータ（ステップ数をキーにして、さらにその中にランドマークのIDとセンサ値をタプルで保存）\n",
    "us = {}    #制御入力のデータ（ステップ数をキーにして保存）\n",
    "\n",
    "with open(\"log.txt\") as f:\n",
    "    for line in f.readlines():\n",
    "        tmp = line.rstrip().split()\n",
    "        \n",
    "        step = int(tmp[1])\n",
    "        if tmp[0] == \"delta\":\n",
    "            delta = float(tmp[1])\n",
    "        elif tmp[0] == \"x\": #姿勢のレコードの場合\n",
    "            xs[step] = np.array([float(tmp[2]), float(tmp[3]), float(tmp[4])]).T\n",
    "        elif tmp[0] == \"z\": #センサ値のレコードの場合\n",
    "            if step not in zlist:  #まだ辞書が空の時は空の辞書を作る\n",
    "                zlist[step] = []\n",
    "            zlist[step].append((int(tmp[2]), np.array([float(tmp[3]), float(tmp[4])]).T))\n",
    "        elif tmp[0] == \"u\": #制御入力の場合\n",
    "            us[step] = np.array([float(tmp[2]), float(tmp[3])]).T"
   ]
  },
  {
   "cell_type": "code",
   "execution_count": 4,
   "metadata": {},
   "outputs": [
    {
     "name": "stdout",
     "output_type": "stream",
     "text": [
      "31\n",
      "{0, 1, 2, 3, 4, 5}\n",
      "[[0. 0. 0. ... 0. 0. 0.]\n",
      " [0. 0. 0. ... 0. 0. 0.]\n",
      " [0. 0. 0. ... 0. 0. 0.]\n",
      " ...\n",
      " [0. 0. 0. ... 0. 0. 0.]\n",
      " [0. 0. 0. ... 0. 0. 0.]\n",
      " [0. 0. 0. ... 0. 0. 0.]]\n",
      "[[0.]\n",
      " [0.]\n",
      " [0.]\n",
      " [0.]\n",
      " [0.]\n",
      " [0.]\n",
      " [0.]\n",
      " [0.]\n",
      " [0.]\n",
      " [0.]\n",
      " [0.]\n",
      " [0.]\n",
      " [0.]\n",
      " [0.]\n",
      " [0.]\n",
      " [0.]\n",
      " [0.]\n",
      " [0.]\n",
      " [0.]\n",
      " [0.]\n",
      " [0.]\n",
      " [0.]\n",
      " [0.]\n",
      " [0.]\n",
      " [0.]\n",
      " [0.]\n",
      " [0.]\n",
      " [0.]\n",
      " [0.]\n",
      " [0.]\n",
      " [0.]\n",
      " [0.]\n",
      " [0.]\n",
      " [0.]\n",
      " [0.]\n",
      " [0.]\n",
      " [0.]\n",
      " [0.]\n",
      " [0.]\n",
      " [0.]\n",
      " [0.]\n",
      " [0.]\n",
      " [0.]\n",
      " [0.]\n",
      " [0.]\n",
      " [0.]\n",
      " [0.]\n",
      " [0.]\n",
      " [0.]\n",
      " [0.]\n",
      " [0.]\n",
      " [0.]\n",
      " [0.]\n",
      " [0.]\n",
      " [0.]\n",
      " [0.]\n",
      " [0.]\n",
      " [0.]\n",
      " [0.]\n",
      " [0.]\n",
      " [0.]\n",
      " [0.]\n",
      " [0.]\n",
      " [0.]\n",
      " [0.]\n",
      " [0.]\n",
      " [0.]\n",
      " [0.]\n",
      " [0.]\n",
      " [0.]\n",
      " [0.]\n",
      " [0.]\n",
      " [0.]\n",
      " [0.]\n",
      " [0.]\n",
      " [0.]\n",
      " [0.]\n",
      " [0.]\n",
      " [0.]\n",
      " [0.]\n",
      " [0.]\n",
      " [0.]\n",
      " [0.]\n",
      " [0.]\n",
      " [0.]\n",
      " [0.]\n",
      " [0.]\n",
      " [0.]\n",
      " [0.]\n",
      " [0.]\n",
      " [0.]\n",
      " [0.]\n",
      " [0.]\n",
      " [0.]\n",
      " [0.]\n",
      " [0.]\n",
      " [0.]\n",
      " [0.]\n",
      " [0.]\n",
      " [0.]\n",
      " [0.]\n",
      " [0.]\n",
      " [0.]\n",
      " [0.]\n",
      " [0.]\n",
      " [0.]\n",
      " [0.]\n",
      " [0.]]\n"
     ]
    }
   ],
   "source": [
    "##空の精度行列と一次の項のベクトルの準備## \n",
    "t_end = len(xs) - 1 #step数（数式中のT）\n",
    "\n",
    "##観測されたランドマークのリスト（精度行列に設けるもの）のセット##\n",
    "observed_landmarks = set()\n",
    "for t in range(len(xs)):\n",
    "    if t not in zlist: continue\n",
    "\n",
    "    for obs in zlist[t]:\n",
    "        observed_landmarks.add(obs[0])\n",
    "\n",
    "##精度行列の次元を求めて精度行列と一次の項のベクトルの初期化##\n",
    "dim = (t_end + 1)*3 + len(observed_landmarks)*2\n",
    "Omega = np.zeros((dim, dim))\n",
    "xi = np.zeros((dim, 1))\n",
    "\n",
    "##確認##\n",
    "print(t_end)                           #終了時刻\n",
    "print(observed_landmarks) #観測されたランドマークのID\n",
    "print(Omega)                        #精度行列\n",
    "print(xi)                                  #一次の項のベクトル"
   ]
  },
  {
   "cell_type": "code",
   "execution_count": 5,
   "metadata": {},
   "outputs": [
    {
     "name": "stdout",
     "output_type": "stream",
     "text": [
      "[array([-2.13800045,  3.38554522]), array([-1.51314626, -4.10141355]), array([ 3.46510084, -0.17765306]), array([1.91972816, 2.59158263]), array([ 0.72851143, -0.58363871]), array([-3.62358709,  0.93716617])]\n"
     ]
    }
   ],
   "source": [
    "mxs, mys = {}, {} #ランドマークごとにx座標を貯める辞書\n",
    "for j in observed_landmarks: mxs[j], mys[j] = [], [] #ランドマークごとに座標のリストを初期化\n",
    "\n",
    "for t in range(len(xs)):\n",
    "    if t not in zlist: continue  #センサ値のないステップは飛ばす\n",
    "            \n",
    "    for obs in zlist[t]:             #センサ値ごとに地図上の位置を計算\n",
    "        x, y, theta = xs[t]         #デッドレコニング上の座標\n",
    "        ell, phi = obs[1]            #センサ値\n",
    "        j = obs[0]                      #ランドマークのID\n",
    "        mx = x + ell*math.cos(theta + phi)    #ランドマークの座標\n",
    "        my = y + ell*math.sin(theta + phi)    #ランドマークの座標\n",
    "        \n",
    "        mxs[j].append(mx)     #計算した座標をリストに加える\n",
    "        mys[j].append(my)\n",
    "        \n",
    "mx_avg, my_avg = {}, {}\n",
    "hat_ms = []\n",
    "for j in observed_landmarks:  #ランドマークごとに平均値を出す\n",
    "    mx_avg[j] = sum(mxs[j])/len(mxs[j])\n",
    "    my_avg[j] = sum(mys[j])/len(mys[j])\n",
    "    hat_ms.append(np.array([mx_avg[j], my_avg[j]]).T)\n",
    "    \n",
    "hat_xs = xs  #姿勢の初期値はxsをそのまま使う\n",
    "hat_ms = hat_ms\n",
    "\n",
    "print(hat_ms)"
   ]
  },
  {
   "cell_type": "code",
   "execution_count": 6,
   "metadata": {},
   "outputs": [
    {
     "data": {
      "text/plain": [
       "array([[1000000.,       0.,       0., ...,       0.,       0.,       0.],\n",
       "       [      0., 1000000.,       0., ...,       0.,       0.,       0.],\n",
       "       [      0.,       0., 1000000., ...,       0.,       0.,       0.],\n",
       "       ...,\n",
       "       [      0.,       0.,       0., ...,       0.,       0.,       0.],\n",
       "       [      0.,       0.,       0., ...,       0.,       0.,       0.],\n",
       "       [      0.,       0.,       0., ...,       0.,       0.,       0.]])"
      ]
     },
     "execution_count": 6,
     "metadata": {},
     "output_type": "execute_result"
    }
   ],
   "source": [
    "##Ω_0を作る## ###graphslam3omegazero\n",
    "alpha = 0.001\n",
    "Sigma_0 = np.diag([0.001**2, 0.001**2, 0.001**2])\n",
    "\n",
    "Omega_0 = np.zeros((dim, dim))                        #ゼロ行列で初期化\n",
    "Omega_0[0:3, 0:3] += np.linalg.inv(Sigma_0) #左上の角に3x3の精度行列を足す\n",
    "\n",
    "Omega_0"
   ]
  },
  {
   "cell_type": "code",
   "execution_count": 7,
   "metadata": {},
   "outputs": [
    {
     "name": "stdout",
     "output_type": "stream",
     "text": [
      "[[2.89777748 0.        ]\n",
      " [0.77645714 0.        ]\n",
      " [0.         3.        ]]\n",
      "[[0.0202093  0.00541507 0.        ]\n",
      " [0.00541507 0.00145096 0.        ]\n",
      " [0.         0.         0.02061198]]\n",
      "[[2.59807621 0.        ]\n",
      " [1.5        0.        ]\n",
      " [0.         3.        ]]\n",
      "[[0.0162452  0.00937917 0.        ]\n",
      " [0.00937917 0.00541507 0.        ]\n",
      " [0.         0.         0.02061198]]\n"
     ]
    },
    {
     "ename": "LinAlgError",
     "evalue": "Singular matrix",
     "output_type": "error",
     "traceback": [
      "\u001b[0;31m---------------------------------------------------------------------------\u001b[0m",
      "\u001b[0;31mLinAlgError\u001b[0m                               Traceback (most recent call last)",
      "\u001b[0;32m<ipython-input-7-d77b1124d7bc>\u001b[0m in \u001b[0;36m<module>\u001b[0;34m\u001b[0m\n\u001b[1;32m     32\u001b[0m     \u001b[0mRs\u001b[0m\u001b[0;34m[\u001b[0m\u001b[0mt\u001b[0m\u001b[0;34m]\u001b[0m \u001b[0;34m=\u001b[0m \u001b[0mR\u001b[0m\u001b[0;34m(\u001b[0m\u001b[0mt\u001b[0m\u001b[0;34m)\u001b[0m\u001b[0;34m\u001b[0m\u001b[0m\n\u001b[1;32m     33\u001b[0m     \u001b[0mprint\u001b[0m\u001b[0;34m(\u001b[0m\u001b[0mRs\u001b[0m\u001b[0;34m[\u001b[0m\u001b[0mt\u001b[0m\u001b[0;34m]\u001b[0m\u001b[0;34m)\u001b[0m\u001b[0;34m\u001b[0m\u001b[0m\n\u001b[0;32m---> 34\u001b[0;31m     \u001b[0mRinvs\u001b[0m\u001b[0;34m[\u001b[0m\u001b[0mt\u001b[0m\u001b[0;34m]\u001b[0m \u001b[0;34m=\u001b[0m \u001b[0mnp\u001b[0m\u001b[0;34m.\u001b[0m\u001b[0mlinalg\u001b[0m\u001b[0;34m.\u001b[0m\u001b[0minv\u001b[0m\u001b[0;34m(\u001b[0m\u001b[0mRs\u001b[0m\u001b[0;34m[\u001b[0m\u001b[0mt\u001b[0m\u001b[0;34m]\u001b[0m\u001b[0;34m)\u001b[0m\u001b[0;34m\u001b[0m\u001b[0m\n\u001b[0m\u001b[1;32m     35\u001b[0m     \u001b[0mFs\u001b[0m\u001b[0;34m[\u001b[0m\u001b[0mt\u001b[0m\u001b[0;34m-\u001b[0m\u001b[0;36m1\u001b[0m\u001b[0;34m]\u001b[0m \u001b[0;34m=\u001b[0m \u001b[0mF\u001b[0m\u001b[0;34m(\u001b[0m\u001b[0mt\u001b[0m\u001b[0;34m)\u001b[0m\u001b[0;34m\u001b[0m\u001b[0m\n\u001b[1;32m     36\u001b[0m \u001b[0;34m\u001b[0m\u001b[0m\n",
      "\u001b[0;32m/usr/local/lib/python3.7/site-packages/numpy/linalg/linalg.py\u001b[0m in \u001b[0;36minv\u001b[0;34m(a)\u001b[0m\n\u001b[1;32m    530\u001b[0m     \u001b[0msignature\u001b[0m \u001b[0;34m=\u001b[0m \u001b[0;34m'D->D'\u001b[0m \u001b[0;32mif\u001b[0m \u001b[0misComplexType\u001b[0m\u001b[0;34m(\u001b[0m\u001b[0mt\u001b[0m\u001b[0;34m)\u001b[0m \u001b[0;32melse\u001b[0m \u001b[0;34m'd->d'\u001b[0m\u001b[0;34m\u001b[0m\u001b[0m\n\u001b[1;32m    531\u001b[0m     \u001b[0mextobj\u001b[0m \u001b[0;34m=\u001b[0m \u001b[0mget_linalg_error_extobj\u001b[0m\u001b[0;34m(\u001b[0m\u001b[0m_raise_linalgerror_singular\u001b[0m\u001b[0;34m)\u001b[0m\u001b[0;34m\u001b[0m\u001b[0m\n\u001b[0;32m--> 532\u001b[0;31m     \u001b[0mainv\u001b[0m \u001b[0;34m=\u001b[0m \u001b[0m_umath_linalg\u001b[0m\u001b[0;34m.\u001b[0m\u001b[0minv\u001b[0m\u001b[0;34m(\u001b[0m\u001b[0ma\u001b[0m\u001b[0;34m,\u001b[0m \u001b[0msignature\u001b[0m\u001b[0;34m=\u001b[0m\u001b[0msignature\u001b[0m\u001b[0;34m,\u001b[0m \u001b[0mextobj\u001b[0m\u001b[0;34m=\u001b[0m\u001b[0mextobj\u001b[0m\u001b[0;34m)\u001b[0m\u001b[0;34m\u001b[0m\u001b[0m\n\u001b[0m\u001b[1;32m    533\u001b[0m     \u001b[0;32mreturn\u001b[0m \u001b[0mwrap\u001b[0m\u001b[0;34m(\u001b[0m\u001b[0mainv\u001b[0m\u001b[0;34m.\u001b[0m\u001b[0mastype\u001b[0m\u001b[0;34m(\u001b[0m\u001b[0mresult_t\u001b[0m\u001b[0;34m,\u001b[0m \u001b[0mcopy\u001b[0m\u001b[0;34m=\u001b[0m\u001b[0;32mFalse\u001b[0m\u001b[0;34m)\u001b[0m\u001b[0;34m)\u001b[0m\u001b[0;34m\u001b[0m\u001b[0m\n\u001b[1;32m    534\u001b[0m \u001b[0;34m\u001b[0m\u001b[0m\n",
      "\u001b[0;32m/usr/local/lib/python3.7/site-packages/numpy/linalg/linalg.py\u001b[0m in \u001b[0;36m_raise_linalgerror_singular\u001b[0;34m(err, flag)\u001b[0m\n\u001b[1;32m     87\u001b[0m \u001b[0;34m\u001b[0m\u001b[0m\n\u001b[1;32m     88\u001b[0m \u001b[0;32mdef\u001b[0m \u001b[0m_raise_linalgerror_singular\u001b[0m\u001b[0;34m(\u001b[0m\u001b[0merr\u001b[0m\u001b[0;34m,\u001b[0m \u001b[0mflag\u001b[0m\u001b[0;34m)\u001b[0m\u001b[0;34m:\u001b[0m\u001b[0;34m\u001b[0m\u001b[0m\n\u001b[0;32m---> 89\u001b[0;31m     \u001b[0;32mraise\u001b[0m \u001b[0mLinAlgError\u001b[0m\u001b[0;34m(\u001b[0m\u001b[0;34m\"Singular matrix\"\u001b[0m\u001b[0;34m)\u001b[0m\u001b[0;34m\u001b[0m\u001b[0m\n\u001b[0m\u001b[1;32m     90\u001b[0m \u001b[0;34m\u001b[0m\u001b[0m\n\u001b[1;32m     91\u001b[0m \u001b[0;32mdef\u001b[0m \u001b[0m_raise_linalgerror_nonposdef\u001b[0m\u001b[0;34m(\u001b[0m\u001b[0merr\u001b[0m\u001b[0;34m,\u001b[0m \u001b[0mflag\u001b[0m\u001b[0;34m)\u001b[0m\u001b[0;34m:\u001b[0m\u001b[0;34m\u001b[0m\u001b[0m\n",
      "\u001b[0;31mLinAlgError\u001b[0m: Singular matrix"
     ]
    }
   ],
   "source": [
    "##Ω_x,xを作る##\n",
    "motion_noise_stds = {\"nn\":0.19, \"no\":0.001, \"on\":0.13, \"oo\":0.2}\n",
    "\n",
    "def R(t): #R_tを返す\n",
    "    theta = xs[t][2]\n",
    "    nu, omega = us[t]\n",
    "    A = delta * np.array([[math.cos(theta), 0.0], [math.sin(theta), 0.0], [0.0, 1.0]])\n",
    "    M = np.diag(\n",
    "        [motion_noise_stds[\"nn\"]**2*abs(nu)/delta +motion_noise_stds[\"no\"]**2*abs(omega)/delta,\n",
    "             motion_noise_stds[\"on\"]**2*abs(nu)/delta + motion_noise_stds[\"oo\"]**2*abs(omega)/delta]\n",
    "    )\n",
    "    print(A)\n",
    "    return A.dot(M).dot(A.T)\n",
    "\n",
    "def F(t): #F_{t-1}を返す（添字注意）\n",
    "    F = np.array(np.eye(3))\n",
    "    x, y, theta = xs[t-1]\n",
    "    nu, omega = us[t]\n",
    "    \n",
    "    if abs(omega) < 10e-5:\n",
    "        F[0, 2] = - nu * delta * math.sin(theta)\n",
    "        F[1, 2] = nu * delta * math.cos(theta)\n",
    "    else:\n",
    "        F[0, 2] = nu / omega * (math.cos(t + omega * delta) - math.cos(theta))\n",
    "        F[1, 2] = nu / omega * (math.sin(t + omega * delta) - math.sin(theta))\n",
    "        \n",
    "    return F\n",
    "\n",
    "##必要な行列を先に計算##\n",
    "Rs, Fs, Rinvs = {}, {}, {}\n",
    "for t in range(1, t_end+1):\n",
    "    Rs[t] = R(t)\n",
    "    print(Rs[t])\n",
    "    Rinvs[t] = np.linalg.inv(Rs[t])\n",
    "    Fs[t-1] = F(t)\n",
    "    \n",
    "##各x_{t-1}, x_tペアの精度行列を作る\n",
    "Omega_xx = []          ###x_{t-1}とx_tに対する精度行列を保管するリスト\n",
    "for t in range(1, t_end+1):\n",
    "    Omega_tmp = np.zeros((dim, dim)) \n",
    "    Omega_tmp[3*t:3*t+3, 3*t:3*t+3] += Fs[t-1].T.dot(Rinvs[t]).Fs[t-1]"
   ]
  },
  {
   "cell_type": "code",
   "execution_count": null,
   "metadata": {},
   "outputs": [],
   "source": [
    "draw(hat_xs, hat_ms, zlist)"
   ]
  },
  {
   "cell_type": "code",
   "execution_count": null,
   "metadata": {},
   "outputs": [],
   "source": [
    "Rs"
   ]
  },
  {
   "cell_type": "code",
   "execution_count": null,
   "metadata": {},
   "outputs": [],
   "source": [
    "Fs"
   ]
  },
  {
   "cell_type": "code",
   "execution_count": 8,
   "metadata": {},
   "outputs": [],
   "source": [
    "A = np.array([[0.0202093,  0.00541507, 0.        ],\n",
    " [0.00541507, 0.00145096, 0.        ],\n",
    " [0. ,        0. ,        0.02061198]])"
   ]
  },
  {
   "cell_type": "code",
   "execution_count": 10,
   "metadata": {},
   "outputs": [
    {
     "data": {
      "text/plain": [
       "array([[-1.49311205e+07,  5.57238397e+07,  0.00000000e+00],\n",
       "       [ 5.57238397e+07, -2.07964033e+08, -0.00000000e+00],\n",
       "       [ 0.00000000e+00,  0.00000000e+00,  4.85154750e+01]])"
      ]
     },
     "execution_count": 10,
     "metadata": {},
     "output_type": "execute_result"
    }
   ],
   "source": [
    "np.linalg.inv(A)"
   ]
  },
  {
   "cell_type": "code",
   "execution_count": null,
   "metadata": {},
   "outputs": [],
   "source": []
  }
 ],
 "metadata": {
  "kernelspec": {
   "display_name": "Python 3",
   "language": "python",
   "name": "python3"
  },
  "language_info": {
   "codemirror_mode": {
    "name": "ipython",
    "version": 3
   },
   "file_extension": ".py",
   "mimetype": "text/x-python",
   "name": "python",
   "nbconvert_exporter": "python",
   "pygments_lexer": "ipython3",
   "version": "3.7.0"
  }
 },
 "nbformat": 4,
 "nbformat_minor": 2
}
