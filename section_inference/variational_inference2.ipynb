{
 "cells": [
  {
   "cell_type": "code",
   "execution_count": null,
   "metadata": {},
   "outputs": [],
   "source": [
    "import pandas as pd \n",
    "import math, random\n",
    "all_data  = pd.read_csv(\"sensor_data_600.txt\", delimiter=\" \", header=None, names = (\"date\",\"time\",\"ir\",\"z\"))#lidarのセンサ値は「z」に\n",
    "data = all_data.sample(3000).sort_values(by=\"z\").reset_index()  #1000個だけサンプリングしてインデックスを振り直す\n",
    "data = pd.DataFrame(data[\"z\"])"
   ]
  },
  {
   "cell_type": "code",
   "execution_count": null,
   "metadata": {
    "scrolled": true
   },
   "outputs": [],
   "source": [
    "##負担率の初期化## \n",
    "\n",
    "K = 3 #クラスタ数\n",
    "n = int(math.ceil(len(data)/K)) #クラスタあたりのセンサ値の数\n",
    "for k in range(K):\n",
    "    data[k] = [1.0 if k == int(i/n) else 0.0 for i,d in data.iterrows()] #データをK個に分けて、一つのr_{i,k}を1に。他を0に。"
   ]
  },
  {
   "cell_type": "code",
   "execution_count": null,
   "metadata": {},
   "outputs": [],
   "source": [
    "def update_parameters(ds, k, mu_avg=600, zeta=1, alpha=1, beta=1, tau=1): \n",
    "    R = sum([d[k] for _, d in ds.iterrows()])\n",
    "    S = sum([d[k]*d[\"z\"] for _, d in ds.iterrows()])\n",
    "    T = sum([d[k]*(d[\"z\"]**2) for _, d in ds.iterrows()])\n",
    "    \n",
    "    hat = {}\n",
    "\n",
    "    hat[\"tau\"] = R + tau\n",
    "    hat[\"zeta\"] = R + zeta\n",
    "    hat[\"mu_avg\"] = (S + zeta*mu_avg)/hat[\"zeta\"]\n",
    "    hat[\"alpha\"] = R/2 + alpha\n",
    "    hat[\"beta\"] = (T + zeta*(mu_avg**2) - hat[\"zeta\"]*(hat[\"mu_avg\"]**2))/2 + beta\n",
    "    \n",
    "    hat[\"z_std\"] = math.sqrt(hat[\"beta\"]/hat[\"alpha\"])\n",
    "    \n",
    "    return pd.DataFrame(hat, index=[k])"
   ]
  },
  {
   "cell_type": "code",
   "execution_count": null,
   "metadata": {},
   "outputs": [],
   "source": [
    "from scipy.stats import norm, dirichlet\n",
    "import matplotlib.pyplot as plt\n",
    "import numpy as np\n",
    "\n",
    "def draw(ps):\n",
    "    pi = dirichlet([ps[\"tau\"][k] for k in range(K)]).rvs()[0]\n",
    "    pdfs = [ norm(loc=ps[\"mu_avg\"][k], scale=ps[\"z_std\"][k]) for k in range(K) ]\n",
    "\n",
    "    xs = np.arange(600,650,0.5)\n",
    "\n",
    "    ##p(z)の描画##\n",
    "    ys = [ sum([pdfs[k].pdf(x)*pi[k] for k in range(K)])*len(data) for x in xs] #pdfを足してデータ数をかける\n",
    "    plt.plot(xs, ys, color=\"red\")\n",
    "\n",
    "    ##各ガウス分布の描画##\n",
    "    for k in range(K):\n",
    "        ys = [pdfs[k].pdf(x)*pi[k]*len(data) for x in xs]\n",
    "        plt.plot(xs, ys, color=\"blue\")\n",
    "\n",
    "    ##元のデータのヒストグラムの描画##\n",
    "    data[\"z\"].hist(bins = max(data[\"z\"]) - min(data[\"z\"]), align='left', alpha=0.4, color=\"gray\")\n",
    "    plt.show()"
   ]
  },
  {
   "cell_type": "code",
   "execution_count": null,
   "metadata": {},
   "outputs": [],
   "source": [
    "from scipy.special import digamma \n",
    "\n",
    "def responsibility(z, K, ps):\n",
    "    tau_sum = sum([ps[\"tau\"][k] for k in range(K)])\n",
    "    r = {}\n",
    "    for k in range(K):\n",
    "        log_rho = (digamma(ps[\"alpha\"][k]) - math.log(ps[\"beta\"][k]))/2 \\\n",
    "                            - (1/ps[\"zeta\"][k] + ((ps[\"mu_avg\"][k] - z)**2)*ps[\"alpha\"][k]/ps[\"beta\"][k])/2 \\\n",
    "                            + digamma(ps[\"tau\"][k]) - digamma(tau_sum)\n",
    "                \n",
    "        r[k] = math.exp(log_rho)\n",
    "       \n",
    "    w = sum([ r[k] for k in range(K) ]) #正規化\n",
    "    for k in range(K): r[k] /= w\n",
    "    \n",
    "    return r"
   ]
  },
  {
   "cell_type": "code",
   "execution_count": null,
   "metadata": {},
   "outputs": [],
   "source": [
    "def one_step(ds): ###variationalinference2onestep\n",
    "    ##パラメータの更新##\n",
    "    params = pd.concat([update_parameters(ds, k) for k in range(K)]) \n",
    "\n",
    "    ##負担率の更新##\n",
    "    rs = [responsibility(d[\"z\"], K, params) for _, d in ds.iterrows() ]\n",
    "    for k in range(K):\n",
    "        ds[k] = [rs[i][k] for i,_ in data.iterrows()]\n",
    "        \n",
    "    return ds, params"
   ]
  },
  {
   "cell_type": "code",
   "execution_count": null,
   "metadata": {},
   "outputs": [],
   "source": [
    "params_history = {} ###variationalinference2iter\n",
    "for t in range(1, 10000):\n",
    "    data, params = one_step(data)\n",
    "    if t%10 ==0:              #10回ごとにパラメータを記録\n",
    "        params_history[t] = params\n",
    "        display(params)\n",
    "        \n",
    "        if len(params_history) < 2:\n",
    "            continue\n",
    "           \n",
    "        if all([ abs(params_history[t-10][\"tau\"][k] - params_history[t][\"tau\"][k]) < 10e-5 for k in range(K)]):\n",
    "            break"
   ]
  },
  {
   "cell_type": "code",
   "execution_count": null,
   "metadata": {},
   "outputs": [],
   "source": [
    "draw(params) ###variationalinference2draw"
   ]
  },
  {
   "cell_type": "code",
   "execution_count": null,
   "metadata": {},
   "outputs": [],
   "source": [
    "draw(params_history[100])"
   ]
  },
  {
   "cell_type": "code",
   "execution_count": null,
   "metadata": {},
   "outputs": [],
   "source": [
    "draw(params_history[10])"
   ]
  },
  {
   "cell_type": "code",
   "execution_count": null,
   "metadata": {},
   "outputs": [],
   "source": [
    "params_history"
   ]
  },
  {
   "cell_type": "code",
   "execution_count": null,
   "metadata": {},
   "outputs": [],
   "source": []
  }
 ],
 "metadata": {
  "kernelspec": {
   "display_name": "Python 3",
   "language": "python",
   "name": "python3"
  },
  "language_info": {
   "codemirror_mode": {
    "name": "ipython",
    "version": 3
   },
   "file_extension": ".py",
   "mimetype": "text/x-python",
   "name": "python",
   "nbconvert_exporter": "python",
   "pygments_lexer": "ipython3",
   "version": "3.7.0"
  }
 },
 "nbformat": 4,
 "nbformat_minor": 2
}
