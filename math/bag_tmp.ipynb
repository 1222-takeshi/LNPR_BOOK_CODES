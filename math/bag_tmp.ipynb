{
 "cells": [
  {
   "cell_type": "code",
   "execution_count": 15,
   "metadata": {},
   "outputs": [
    {
     "name": "stdout",
     "output_type": "stream",
     "text": [
      "{white_4372538088, red_4372538984, white_4372537472, red_4372538760, white_4372539096, red_4372540272, white_4372540944}\n"
     ]
    }
   ],
   "source": [
    "class Bag:\n",
    "    def __init__(self):\n",
    "        self.balls = set()     # 空の集合を作る\n",
    "        \n",
    "    def append(self, ball):    # 集合にボールを加えるためのメソッド\n",
    "        self.balls.add(ball)\n",
    "        \n",
    "    def __str__(self):\n",
    "        return \"{\" + \", \".join({ e.__str__() for e in self.balls }) + \"}\"\n",
    "        \n",
    "class Ball:\n",
    "    def __init__(self, color):\n",
    "        self.color = color     # ボールは色を示す変数（文字列の予定）だけ持つ\n",
    "    \n",
    "    def __str__(self):\n",
    "        return self.color +\"_\" + str(id(self))\n",
    "        \n",
    "bag = Bag()                    # 袋を一つ作る\n",
    "\n",
    "for i in range(3):             # 赤い玉を3つ加える\n",
    "    bag.append(Ball(\"red\"))\n",
    "for i in range(4):             # 白い玉を4つ加える\n",
    "    bag.append(Ball(\"white\"))\n",
    "    \n",
    "print(bag)"
   ]
  },
  {
   "cell_type": "code",
   "execution_count": null,
   "metadata": {},
   "outputs": [],
   "source": []
  }
 ],
 "metadata": {
  "kernelspec": {
   "display_name": "Python 3",
   "language": "python",
   "name": "python3"
  },
  "language_info": {
   "codemirror_mode": {
    "name": "ipython",
    "version": 3
   },
   "file_extension": ".py",
   "mimetype": "text/x-python",
   "name": "python",
   "nbconvert_exporter": "python",
   "pygments_lexer": "ipython3",
   "version": "3.6.3"
  }
 },
 "nbformat": 4,
 "nbformat_minor": 2
}
