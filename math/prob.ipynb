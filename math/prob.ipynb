{
 "cells": [
  {
   "cell_type": "code",
   "execution_count": 1,
   "metadata": {},
   "outputs": [
    {
     "name": "stdout",
     "output_type": "stream",
     "text": [
      "{1, 2, 3, 4, 5, 6}\n"
     ]
    }
   ],
   "source": [
    "class Dice:                           ### fig:dice1 ###\n",
    "    def __init__(self):\n",
    "        self.numbers = {1,2,3,4,5,6}\n",
    "        \n",
    "dice = Dice()\n",
    "print(dice.numbers)"
   ]
  },
  {
   "cell_type": "code",
   "execution_count": 13,
   "metadata": {},
   "outputs": [
    {
     "data": {
      "text/plain": [
       "True"
      ]
     },
     "execution_count": 13,
     "metadata": {},
     "output_type": "execute_result"
    }
   ],
   "source": [
    "1 in dice.numbers   ### fig:1_in_dice ####"
   ]
  },
  {
   "cell_type": "code",
   "execution_count": 16,
   "metadata": {},
   "outputs": [
    {
     "data": {
      "text/plain": [
       "True"
      ]
     },
     "execution_count": 16,
     "metadata": {},
     "output_type": "execute_result"
    }
   ],
   "source": [
    "7 not in dice.numbers    ### fig:1_not_in_dice ####"
   ]
  },
  {
   "cell_type": "code",
   "execution_count": 10,
   "metadata": {},
   "outputs": [
    {
     "name": "stdout",
     "output_type": "stream",
     "text": [
      "2\n",
      "[5, 1, 5, 6, 3, 5, 3, 2, 4, 6]\n"
     ]
    }
   ],
   "source": [
    "import random   # モジュールのインポート                        ### fig:dice2 ###\n",
    "\n",
    "class Dice:\n",
    "    def __init__(self):  self.numbers = {1,2,3,4,5,6}\n",
    "    def roll(self):      return random.choice(list(self.numbers))         # 追加\n",
    "    def rolls(self,num): return random.choices(list(self.numbers), k=num) # 追加\n",
    "        \n",
    "dice = Dice()\n",
    "### roll, rollsを使ってみましょう ###\n",
    "print(dice.roll()) \n",
    "print(dice.rolls(10))"
   ]
  },
  {
   "cell_type": "code",
   "execution_count": 6,
   "metadata": {},
   "outputs": [
    {
     "name": "stdout",
     "output_type": "stream",
     "text": [
      "{'W', 'R'}\n"
     ]
    }
   ],
   "source": [
    "S_bag = {\"R\",\"R\",\"R\",\"W\",\"W\",\"W\",\"W\"}       ### fig:wrong_set ###\n",
    "print(S_bag)"
   ]
  },
  {
   "cell_type": "code",
   "execution_count": 5,
   "metadata": {},
   "outputs": [
    {
     "name": "stdout",
     "output_type": "stream",
     "text": [
      "{'R_2', 'W_4', 'W_1', 'W_2', 'R_3', 'R_1', 'W_3'}\n"
     ]
    }
   ],
   "source": [
    "S_bag = {\"R_1\",\"R_2\",\"R_3\",\"W_1\",\"W_2\",\"W_3\",\"W_4\"}       ### fig:ball_set ###\n",
    "print(S_bag)"
   ]
  },
  {
   "cell_type": "code",
   "execution_count": 8,
   "metadata": {},
   "outputs": [
    {
     "name": "stdout",
     "output_type": "stream",
     "text": [
      "{<__main__.Ball object at 0x10bd8ba90>, <__main__.Ball object at 0x10bda86a0>, <__main__.Ball object at 0x10bcf3cc0>, <__main__.Ball object at 0x10bd8bd30>, <__main__.Ball object at 0x10bd8bf98>, <__main__.Ball object at 0x10bda8ba8>, <__main__.Ball object at 0x10bd8bfd0>}\n"
     ]
    }
   ],
   "source": [
    "class Bag:                                                  ### fig:bag_and_ball ###\n",
    "    def __init__(self):\n",
    "        self.contents = set()  # 空の集合をひとつ作っておく\n",
    "        \n",
    "    def add(self,ball): \n",
    "        self.contents.add(ball) # ボールを袋に入れる操作\n",
    "\n",
    "class Ball:\n",
    "    def __init__(self, color):\n",
    "        self.color = color     # ボールは色を示す変数（文字列の予定）だけ持つ\n",
    "\n",
    "bag = Bag()                    # 袋を一つ作る\n",
    "\n",
    "for i in range(3):             # 赤い玉を3つ加える\n",
    "    bag.add(Ball(\"red\"))\n",
    "for i in range(4):             # 白い玉を4つ加える\n",
    "    bag.add(Ball(\"white\"))\n",
    "\n",
    "print(bag.contents)"
   ]
  },
  {
   "cell_type": "code",
   "execution_count": null,
   "metadata": {},
   "outputs": [],
   "source": []
  }
 ],
 "metadata": {
  "kernelspec": {
   "display_name": "Python 3",
   "language": "python",
   "name": "python3"
  },
  "language_info": {
   "codemirror_mode": {
    "name": "ipython",
    "version": 3
   },
   "file_extension": ".py",
   "mimetype": "text/x-python",
   "name": "python",
   "nbconvert_exporter": "python",
   "pygments_lexer": "ipython3",
   "version": "3.6.3"
  }
 },
 "nbformat": 4,
 "nbformat_minor": 2
}
