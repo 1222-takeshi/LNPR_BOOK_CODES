{
 "cells": [
  {
   "cell_type": "code",
   "execution_count": 1,
   "metadata": {},
   "outputs": [
    {
     "name": "stdout",
     "output_type": "stream",
     "text": [
      "{1, 2, 3, 4, 5, 6}\n"
     ]
    }
   ],
   "source": [
    "class Dice:                           ### fig:dice1 ###\n",
    "    def __init__(self):\n",
    "        self.numbers = {1,2,3,4,5,6}\n",
    "        \n",
    "dice = Dice()\n",
    "print(dice.numbers)"
   ]
  },
  {
   "cell_type": "code",
   "execution_count": 2,
   "metadata": {},
   "outputs": [
    {
     "data": {
      "text/plain": [
       "True"
      ]
     },
     "execution_count": 2,
     "metadata": {},
     "output_type": "execute_result"
    }
   ],
   "source": [
    "1 in dice.numbers   ### fig:1_in_dice ####"
   ]
  },
  {
   "cell_type": "code",
   "execution_count": 3,
   "metadata": {},
   "outputs": [
    {
     "data": {
      "text/plain": [
       "True"
      ]
     },
     "execution_count": 3,
     "metadata": {},
     "output_type": "execute_result"
    }
   ],
   "source": [
    "7 not in dice.numbers    ### fig:1_not_in_dice ####"
   ]
  },
  {
   "cell_type": "code",
   "execution_count": 4,
   "metadata": {},
   "outputs": [
    {
     "name": "stdout",
     "output_type": "stream",
     "text": [
      "2\n",
      "[1, 5, 1, 6, 5, 6, 1, 5, 3, 2]\n"
     ]
    }
   ],
   "source": [
    "import random   # モジュールのインポート                        ### fig:dice2 ###\n",
    "\n",
    "class Dice:\n",
    "    def __init__(self):  self.numbers = {1,2,3,4,5,6}\n",
    "    def roll(self):      return random.choice(list(self.numbers))         # 追加\n",
    "    def rolls(self,num): return random.choices(list(self.numbers), k=num) # 追加\n",
    "        \n",
    "dice = Dice()\n",
    "### roll, rollsを使ってみましょう ###\n",
    "print(dice.roll()) \n",
    "print(dice.rolls(10))"
   ]
  },
  {
   "cell_type": "code",
   "execution_count": 5,
   "metadata": {},
   "outputs": [
    {
     "name": "stdout",
     "output_type": "stream",
     "text": [
      "{'R', 'W'}\n"
     ]
    }
   ],
   "source": [
    "S_bag = {\"R\",\"R\",\"R\",\"W\",\"W\",\"W\",\"W\"}       ### fig:wrong_set ###\n",
    "print(S_bag)"
   ]
  },
  {
   "cell_type": "code",
   "execution_count": 6,
   "metadata": {},
   "outputs": [
    {
     "name": "stdout",
     "output_type": "stream",
     "text": [
      "{'R_1', 'W_3', 'W_1', 'R_2', 'W_4', 'R_3', 'W_2'}\n"
     ]
    }
   ],
   "source": [
    "S_bag = {\"R_1\",\"R_2\",\"R_3\",\"W_1\",\"W_2\",\"W_3\",\"W_4\"}       ### fig:ball_set ###\n",
    "print(S_bag)"
   ]
  },
  {
   "cell_type": "code",
   "execution_count": 7,
   "metadata": {},
   "outputs": [
    {
     "name": "stdout",
     "output_type": "stream",
     "text": [
      "{<__main__.Ball object at 0x10f632400>, <__main__.Ball object at 0x10f632048>, <__main__.Ball object at 0x10f632080>, <__main__.Ball object at 0x10f632780>, <__main__.Ball object at 0x10f632588>, <__main__.Ball object at 0x10f5fdf98>, <__main__.Ball object at 0x10f6329b0>}\n"
     ]
    }
   ],
   "source": [
    "class Bag:                                                  ### fig:bag_and_ball ###\n",
    "    def __init__(self):\n",
    "        self.contents = set()  # 空の集合をひとつ作っておく\n",
    "        \n",
    "    def add(self,ball): \n",
    "        self.contents.add(ball) # ボールを袋に入れる操作\n",
    "\n",
    "class Ball:\n",
    "    def __init__(self, color):\n",
    "        self.color = color     # ボールは色を示す変数（文字列の予定）だけ持つ\n",
    "\n",
    "bag = Bag()                    # 袋を一つ作る\n",
    "\n",
    "for i in range(3):             # 赤い玉を3つ加える\n",
    "    bag.add(Ball(\"red\"))\n",
    "for i in range(4):             # 白い玉を4つ加える\n",
    "    bag.add(Ball(\"white\"))\n",
    "\n",
    "print(bag.contents)"
   ]
  },
  {
   "cell_type": "code",
   "execution_count": 8,
   "metadata": {},
   "outputs": [
    {
     "name": "stdout",
     "output_type": "stream",
     "text": [
      "['red', 'red', 'white', 'red', 'white', 'white', 'white']\n"
     ]
    }
   ],
   "source": [
    "class Bag:                                                  ### fig:bag_and_ball2 ###\n",
    "    def __init__(self):              # @@@省略@@@\n",
    "        self.contents = set()        # @@@省略@@@\n",
    "        \n",
    "    def add(self,ball):              # @@@省略@@@\n",
    "        self.contents.add(ball)      # @@@省略@@@\n",
    "        \n",
    "    def pop(self):                              # このメソッドを追加\n",
    "        if not self.contents:\n",
    "            return None                        #　空ならNoneを返す\n",
    "        \n",
    "        b = random.choice(list(self.contents))\n",
    "        self.contents.remove(b)                 # setから選んだボールを消す\n",
    "        return b\n",
    "\n",
    "class Ball:                       # @@@省略@@@\n",
    "    def __init__(self, color):   # @@@省略@@@\n",
    "        self.color = color       # @@@省略@@@\n",
    "\n",
    "bag = Bag()\n",
    "for i in range(3):\n",
    "    bag.add(Ball(\"red\"))\n",
    "for i in range(4):\n",
    "    bag.add(Ball(\"white\"))\n",
    "\n",
    "result = []                 # 選んだボールの色を記録するためのリスト\n",
    "b = bag.pop()\n",
    "while b:\n",
    "    result.append(b.color)\n",
    "    b = bag.pop()\n",
    "        \n",
    "print(result)"
   ]
  },
  {
   "cell_type": "code",
   "execution_count": 9,
   "metadata": {},
   "outputs": [
    {
     "name": "stdout",
     "output_type": "stream",
     "text": [
      "[5, 4, 3, 3, 6, 3, 4, 1, 6, 6] [4, 6, 4, 6, 6]\n",
      "0.5\n",
      "[6, 3, 6, 2, 4, 3, 5, 2, 4, 2] [6, 3, 6, 4, 3, 5, 4]\n",
      "0.7\n"
     ]
    }
   ],
   "source": [
    "def dice_probability(dice, event, trial_num):                 ### fig:dice_probability ###\n",
    "    trials = dice.rolls(trial_num)\n",
    "    passed = list(e for e in trials if e in event)\n",
    "    print(trials, passed)\n",
    "    return len(passed)/trial_num\n",
    "    \n",
    "print(dice_probability(dice, {2,4,6}, 10))       # 偶数\n",
    "print(dice_probability(dice, {3,4,5,6}, 10))     # 3以上"
   ]
  },
  {
   "cell_type": "code",
   "execution_count": 10,
   "metadata": {},
   "outputs": [
    {
     "ename": "TypeError",
     "evalue": "argument of type 'int' is not iterable",
     "output_type": "error",
     "traceback": [
      "\u001b[0;31m---------------------------------------------------------------------------\u001b[0m",
      "\u001b[0;31mTypeError\u001b[0m                                 Traceback (most recent call last)",
      "\u001b[0;32m<ipython-input-10-2b750d3f74b7>\u001b[0m in \u001b[0;36m<module>\u001b[0;34m()\u001b[0m\n\u001b[0;32m----> 1\u001b[0;31m \u001b[0mprint\u001b[0m\u001b[0;34m(\u001b[0m\u001b[0mdice_probability\u001b[0m\u001b[0;34m(\u001b[0m\u001b[0mdice\u001b[0m\u001b[0;34m,\u001b[0m \u001b[0;36m3\u001b[0m\u001b[0;34m,\u001b[0m \u001b[0;36m10\u001b[0m\u001b[0;34m)\u001b[0m\u001b[0;34m)\u001b[0m        \u001b[0;31m# 集合にせずに出目を与える      ### fig:only_give_element ###\u001b[0m\u001b[0;34m\u001b[0m\u001b[0m\n\u001b[0m",
      "\u001b[0;32m<ipython-input-9-f88e6cea81e7>\u001b[0m in \u001b[0;36mdice_probability\u001b[0;34m(dice, event, trial_num)\u001b[0m\n\u001b[1;32m      1\u001b[0m \u001b[0;32mdef\u001b[0m \u001b[0mdice_probability\u001b[0m\u001b[0;34m(\u001b[0m\u001b[0mdice\u001b[0m\u001b[0;34m,\u001b[0m \u001b[0mevent\u001b[0m\u001b[0;34m,\u001b[0m \u001b[0mtrial_num\u001b[0m\u001b[0;34m)\u001b[0m\u001b[0;34m:\u001b[0m                 \u001b[0;31m### fig:dice_probability ###\u001b[0m\u001b[0;34m\u001b[0m\u001b[0m\n\u001b[1;32m      2\u001b[0m     \u001b[0mtrials\u001b[0m \u001b[0;34m=\u001b[0m \u001b[0mdice\u001b[0m\u001b[0;34m.\u001b[0m\u001b[0mrolls\u001b[0m\u001b[0;34m(\u001b[0m\u001b[0mtrial_num\u001b[0m\u001b[0;34m)\u001b[0m\u001b[0;34m\u001b[0m\u001b[0m\n\u001b[0;32m----> 3\u001b[0;31m     \u001b[0mpassed\u001b[0m \u001b[0;34m=\u001b[0m \u001b[0mlist\u001b[0m\u001b[0;34m(\u001b[0m\u001b[0me\u001b[0m \u001b[0;32mfor\u001b[0m \u001b[0me\u001b[0m \u001b[0;32min\u001b[0m \u001b[0mtrials\u001b[0m \u001b[0;32mif\u001b[0m \u001b[0me\u001b[0m \u001b[0;32min\u001b[0m \u001b[0mevent\u001b[0m\u001b[0;34m)\u001b[0m\u001b[0;34m\u001b[0m\u001b[0m\n\u001b[0m\u001b[1;32m      4\u001b[0m     \u001b[0mprint\u001b[0m\u001b[0;34m(\u001b[0m\u001b[0mtrials\u001b[0m\u001b[0;34m,\u001b[0m \u001b[0mpassed\u001b[0m\u001b[0;34m)\u001b[0m\u001b[0;34m\u001b[0m\u001b[0m\n\u001b[1;32m      5\u001b[0m     \u001b[0;32mreturn\u001b[0m \u001b[0mlen\u001b[0m\u001b[0;34m(\u001b[0m\u001b[0mpassed\u001b[0m\u001b[0;34m)\u001b[0m\u001b[0;34m/\u001b[0m\u001b[0mtrial_num\u001b[0m\u001b[0;34m\u001b[0m\u001b[0m\n",
      "\u001b[0;32m<ipython-input-9-f88e6cea81e7>\u001b[0m in \u001b[0;36m<genexpr>\u001b[0;34m(.0)\u001b[0m\n\u001b[1;32m      1\u001b[0m \u001b[0;32mdef\u001b[0m \u001b[0mdice_probability\u001b[0m\u001b[0;34m(\u001b[0m\u001b[0mdice\u001b[0m\u001b[0;34m,\u001b[0m \u001b[0mevent\u001b[0m\u001b[0;34m,\u001b[0m \u001b[0mtrial_num\u001b[0m\u001b[0;34m)\u001b[0m\u001b[0;34m:\u001b[0m                 \u001b[0;31m### fig:dice_probability ###\u001b[0m\u001b[0;34m\u001b[0m\u001b[0m\n\u001b[1;32m      2\u001b[0m     \u001b[0mtrials\u001b[0m \u001b[0;34m=\u001b[0m \u001b[0mdice\u001b[0m\u001b[0;34m.\u001b[0m\u001b[0mrolls\u001b[0m\u001b[0;34m(\u001b[0m\u001b[0mtrial_num\u001b[0m\u001b[0;34m)\u001b[0m\u001b[0;34m\u001b[0m\u001b[0m\n\u001b[0;32m----> 3\u001b[0;31m     \u001b[0mpassed\u001b[0m \u001b[0;34m=\u001b[0m \u001b[0mlist\u001b[0m\u001b[0;34m(\u001b[0m\u001b[0me\u001b[0m \u001b[0;32mfor\u001b[0m \u001b[0me\u001b[0m \u001b[0;32min\u001b[0m \u001b[0mtrials\u001b[0m \u001b[0;32mif\u001b[0m \u001b[0me\u001b[0m \u001b[0;32min\u001b[0m \u001b[0mevent\u001b[0m\u001b[0;34m)\u001b[0m\u001b[0;34m\u001b[0m\u001b[0m\n\u001b[0m\u001b[1;32m      4\u001b[0m     \u001b[0mprint\u001b[0m\u001b[0;34m(\u001b[0m\u001b[0mtrials\u001b[0m\u001b[0;34m,\u001b[0m \u001b[0mpassed\u001b[0m\u001b[0;34m)\u001b[0m\u001b[0;34m\u001b[0m\u001b[0m\n\u001b[1;32m      5\u001b[0m     \u001b[0;32mreturn\u001b[0m \u001b[0mlen\u001b[0m\u001b[0;34m(\u001b[0m\u001b[0mpassed\u001b[0m\u001b[0;34m)\u001b[0m\u001b[0;34m/\u001b[0m\u001b[0mtrial_num\u001b[0m\u001b[0;34m\u001b[0m\u001b[0m\n",
      "\u001b[0;31mTypeError\u001b[0m: argument of type 'int' is not iterable"
     ]
    }
   ],
   "source": [
    "print(dice_probability(dice, 3, 10))        # 集合にせずに出目を与える      ### fig:only_give_element ###"
   ]
  },
  {
   "cell_type": "code",
   "execution_count": 20,
   "metadata": {},
   "outputs": [
    {
     "name": "stdout",
     "output_type": "stream",
     "text": [
      "{EmptySet(), {1}, {2}, ..., {1, 3, 4, 5, 6}, {2, 3, 4, 5, 6}, {1, 2, 3, 4, 5, 6}}\n"
     ]
    }
   ],
   "source": [
    "import sympy                           ### fig:powerset ###\n",
    "s = sympy.FiniteSet(*dice.numbers)\n",
    "print(s.powerset())"
   ]
  },
  {
   "cell_type": "code",
   "execution_count": null,
   "metadata": {},
   "outputs": [],
   "source": []
  }
 ],
 "metadata": {
  "kernelspec": {
   "display_name": "Python 3",
   "language": "python",
   "name": "python3"
  },
  "language_info": {
   "codemirror_mode": {
    "name": "ipython",
    "version": 3
   },
   "file_extension": ".py",
   "mimetype": "text/x-python",
   "name": "python",
   "nbconvert_exporter": "python",
   "pygments_lexer": "ipython3",
   "version": "3.6.3"
  }
 },
 "nbformat": 4,
 "nbformat_minor": 2
}
